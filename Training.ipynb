{
  "nbformat": 4,
  "nbformat_minor": 0,
  "metadata": {
    "jupytext": {
      "split_at_heading": true
    },
    "kernelspec": {
      "display_name": "Python 3",
      "language": "python",
      "name": "python3"
    },
    "colab": {
      "name": "Copy of 02_production.ipynb",
      "provenance": []
    },
    "accelerator": "GPU",
    "widgets": {
      "application/vnd.jupyter.widget-state+json": {
        "6afa86731fd04be1a5927f7f96792ab7": {
          "model_module": "@jupyter-widgets/controls",
          "model_name": "HBoxModel",
          "state": {
            "_view_name": "HBoxView",
            "_dom_classes": [],
            "_model_name": "HBoxModel",
            "_view_module": "@jupyter-widgets/controls",
            "_model_module_version": "1.5.0",
            "_view_count": null,
            "_view_module_version": "1.5.0",
            "box_style": "",
            "layout": "IPY_MODEL_30543c199847482097e3ae2fbf312bac",
            "_model_module": "@jupyter-widgets/controls",
            "children": [
              "IPY_MODEL_caa8f4cb7efa4d248ba7cf80adae4f1a",
              "IPY_MODEL_69f960871868439bba867923d3497b86",
              "IPY_MODEL_b5f1d3aae24b4d5b9e29763e41c30fad",
              "IPY_MODEL_b90a13ea514e4f6391ee35ef3ca54976",
              "IPY_MODEL_38e5b85c9912429398b275a73ea83a2a",
              "IPY_MODEL_3e21820fc0a74ddda07497ab55f21656",
              "IPY_MODEL_feb5a056797c46edaffd780c4a84630a"
            ]
          }
        },
        "30543c199847482097e3ae2fbf312bac": {
          "model_module": "@jupyter-widgets/base",
          "model_name": "LayoutModel",
          "state": {
            "_view_name": "LayoutView",
            "grid_template_rows": null,
            "right": null,
            "justify_content": null,
            "_view_module": "@jupyter-widgets/base",
            "overflow": null,
            "_model_module_version": "1.2.0",
            "_view_count": null,
            "flex_flow": null,
            "width": null,
            "min_width": null,
            "border": null,
            "align_items": null,
            "bottom": null,
            "_model_module": "@jupyter-widgets/base",
            "top": null,
            "grid_column": null,
            "overflow_y": null,
            "overflow_x": null,
            "grid_auto_flow": null,
            "grid_area": null,
            "grid_template_columns": null,
            "flex": null,
            "_model_name": "LayoutModel",
            "justify_items": null,
            "grid_row": null,
            "max_height": null,
            "align_content": null,
            "visibility": null,
            "align_self": null,
            "height": null,
            "min_height": null,
            "padding": null,
            "grid_auto_rows": null,
            "grid_gap": null,
            "max_width": null,
            "order": null,
            "_view_module_version": "1.2.0",
            "grid_template_areas": null,
            "object_position": null,
            "object_fit": null,
            "grid_auto_columns": null,
            "margin": null,
            "display": null,
            "left": null
          }
        },
        "caa8f4cb7efa4d248ba7cf80adae4f1a": {
          "model_module": "@jupyter-widgets/controls",
          "model_name": "ButtonModel",
          "state": {
            "_view_name": "ButtonView",
            "style": "IPY_MODEL_496ba7ab688047b6934140900a6e4bcd",
            "_dom_classes": [],
            "description": "|<<",
            "_model_name": "ButtonModel",
            "button_style": "",
            "_view_module": "@jupyter-widgets/controls",
            "_model_module_version": "1.5.0",
            "tooltip": "",
            "_view_count": null,
            "disabled": false,
            "_view_module_version": "1.5.0",
            "layout": "IPY_MODEL_f864d66441494dd1a12bbd1e8ef7317a",
            "_model_module": "@jupyter-widgets/controls",
            "icon": ""
          }
        },
        "69f960871868439bba867923d3497b86": {
          "model_module": "@jupyter-widgets/controls",
          "model_name": "ButtonModel",
          "state": {
            "_view_name": "ButtonView",
            "style": "IPY_MODEL_2fd2275d8b5b467db7416577a1355350",
            "_dom_classes": [],
            "description": "<<",
            "_model_name": "ButtonModel",
            "button_style": "",
            "_view_module": "@jupyter-widgets/controls",
            "_model_module_version": "1.5.0",
            "tooltip": "",
            "_view_count": null,
            "disabled": false,
            "_view_module_version": "1.5.0",
            "layout": "IPY_MODEL_e085e600057a4dccbac40ffbcb163fe8",
            "_model_module": "@jupyter-widgets/controls",
            "icon": ""
          }
        },
        "b5f1d3aae24b4d5b9e29763e41c30fad": {
          "model_module": "@jupyter-widgets/controls",
          "model_name": "LabelModel",
          "state": {
            "_view_name": "LabelView",
            "style": "IPY_MODEL_610482d61ab942d2a569ce7834802c72",
            "_dom_classes": [],
            "description": "",
            "_model_name": "LabelModel",
            "placeholder": "​",
            "_view_module": "@jupyter-widgets/controls",
            "_model_module_version": "1.5.0",
            "value": "Page 38 of 38",
            "_view_count": null,
            "_view_module_version": "1.5.0",
            "description_tooltip": null,
            "_model_module": "@jupyter-widgets/controls",
            "layout": "IPY_MODEL_bab54e4d4abd4b57867deff074e33c67"
          }
        },
        "b90a13ea514e4f6391ee35ef3ca54976": {
          "model_module": "@jupyter-widgets/controls",
          "model_name": "ButtonModel",
          "state": {
            "_view_name": "ButtonView",
            "style": "IPY_MODEL_203770ab1eb8429398951c9caffc9c27",
            "_dom_classes": [],
            "description": ">>",
            "_model_name": "ButtonModel",
            "button_style": "",
            "_view_module": "@jupyter-widgets/controls",
            "_model_module_version": "1.5.0",
            "tooltip": "",
            "_view_count": null,
            "disabled": true,
            "_view_module_version": "1.5.0",
            "layout": "IPY_MODEL_9e888b5892054dcebc1ddcc5b0aa50bd",
            "_model_module": "@jupyter-widgets/controls",
            "icon": ""
          }
        },
        "38e5b85c9912429398b275a73ea83a2a": {
          "model_module": "@jupyter-widgets/controls",
          "model_name": "ButtonModel",
          "state": {
            "_view_name": "ButtonView",
            "style": "IPY_MODEL_b3d338e6dccc4a3484ad8dfdf0bc2f6d",
            "_dom_classes": [],
            "description": ">>|",
            "_model_name": "ButtonModel",
            "button_style": "",
            "_view_module": "@jupyter-widgets/controls",
            "_model_module_version": "1.5.0",
            "tooltip": "",
            "_view_count": null,
            "disabled": true,
            "_view_module_version": "1.5.0",
            "layout": "IPY_MODEL_89236ad4eaa64150b429ceb5f06421fc",
            "_model_module": "@jupyter-widgets/controls",
            "icon": ""
          }
        },
        "3e21820fc0a74ddda07497ab55f21656": {
          "model_module": "@jupyter-widgets/controls",
          "model_name": "DropdownModel",
          "state": {
            "_options_labels": [
              "Ginger",
              "Not Ginger"
            ],
            "_view_name": "DropdownView",
            "style": "IPY_MODEL_4abdd2f9abd143f0ac586cbc5d31f0ca",
            "_dom_classes": [],
            "description": "Folder: ",
            "_model_name": "DropdownModel",
            "index": 1,
            "_view_module": "@jupyter-widgets/controls",
            "_model_module_version": "1.5.0",
            "_view_count": null,
            "disabled": false,
            "_view_module_version": "1.5.0",
            "description_tooltip": null,
            "_model_module": "@jupyter-widgets/controls",
            "layout": "IPY_MODEL_48de76edc044432d9e4fe9a789161be4"
          }
        },
        "feb5a056797c46edaffd780c4a84630a": {
          "model_module": "@jupyter-widgets/controls",
          "model_name": "ButtonModel",
          "state": {
            "_view_name": "ButtonView",
            "style": "IPY_MODEL_ec70f90901ff4fc8aa70a7786a9ed0ba",
            "_dom_classes": [],
            "description": "↻",
            "_model_name": "ButtonModel",
            "button_style": "",
            "_view_module": "@jupyter-widgets/controls",
            "_model_module_version": "1.5.0",
            "tooltip": "",
            "_view_count": null,
            "disabled": false,
            "_view_module_version": "1.5.0",
            "layout": "IPY_MODEL_02389c87eaa24ac1b4a9d7c8dd346ab1",
            "_model_module": "@jupyter-widgets/controls",
            "icon": ""
          }
        },
        "496ba7ab688047b6934140900a6e4bcd": {
          "model_module": "@jupyter-widgets/controls",
          "model_name": "ButtonStyleModel",
          "state": {
            "_view_name": "StyleView",
            "_model_name": "ButtonStyleModel",
            "_view_module": "@jupyter-widgets/base",
            "_model_module_version": "1.5.0",
            "_view_count": null,
            "button_color": null,
            "font_weight": "",
            "_view_module_version": "1.2.0",
            "_model_module": "@jupyter-widgets/controls"
          }
        },
        "f864d66441494dd1a12bbd1e8ef7317a": {
          "model_module": "@jupyter-widgets/base",
          "model_name": "LayoutModel",
          "state": {
            "_view_name": "LayoutView",
            "grid_template_rows": null,
            "right": null,
            "justify_content": null,
            "_view_module": "@jupyter-widgets/base",
            "overflow": null,
            "_model_module_version": "1.2.0",
            "_view_count": null,
            "flex_flow": null,
            "width": "60px",
            "min_width": null,
            "border": null,
            "align_items": null,
            "bottom": null,
            "_model_module": "@jupyter-widgets/base",
            "top": null,
            "grid_column": null,
            "overflow_y": null,
            "overflow_x": null,
            "grid_auto_flow": null,
            "grid_area": null,
            "grid_template_columns": null,
            "flex": null,
            "_model_name": "LayoutModel",
            "justify_items": null,
            "grid_row": null,
            "max_height": null,
            "align_content": null,
            "visibility": null,
            "align_self": null,
            "height": null,
            "min_height": null,
            "padding": null,
            "grid_auto_rows": null,
            "grid_gap": null,
            "max_width": null,
            "order": null,
            "_view_module_version": "1.2.0",
            "grid_template_areas": null,
            "object_position": null,
            "object_fit": null,
            "grid_auto_columns": null,
            "margin": null,
            "display": null,
            "left": null
          }
        },
        "2fd2275d8b5b467db7416577a1355350": {
          "model_module": "@jupyter-widgets/controls",
          "model_name": "ButtonStyleModel",
          "state": {
            "_view_name": "StyleView",
            "_model_name": "ButtonStyleModel",
            "_view_module": "@jupyter-widgets/base",
            "_model_module_version": "1.5.0",
            "_view_count": null,
            "button_color": null,
            "font_weight": "",
            "_view_module_version": "1.2.0",
            "_model_module": "@jupyter-widgets/controls"
          }
        },
        "e085e600057a4dccbac40ffbcb163fe8": {
          "model_module": "@jupyter-widgets/base",
          "model_name": "LayoutModel",
          "state": {
            "_view_name": "LayoutView",
            "grid_template_rows": null,
            "right": null,
            "justify_content": null,
            "_view_module": "@jupyter-widgets/base",
            "overflow": null,
            "_model_module_version": "1.2.0",
            "_view_count": null,
            "flex_flow": null,
            "width": "60px",
            "min_width": null,
            "border": null,
            "align_items": null,
            "bottom": null,
            "_model_module": "@jupyter-widgets/base",
            "top": null,
            "grid_column": null,
            "overflow_y": null,
            "overflow_x": null,
            "grid_auto_flow": null,
            "grid_area": null,
            "grid_template_columns": null,
            "flex": null,
            "_model_name": "LayoutModel",
            "justify_items": null,
            "grid_row": null,
            "max_height": null,
            "align_content": null,
            "visibility": null,
            "align_self": null,
            "height": null,
            "min_height": null,
            "padding": null,
            "grid_auto_rows": null,
            "grid_gap": null,
            "max_width": null,
            "order": null,
            "_view_module_version": "1.2.0",
            "grid_template_areas": null,
            "object_position": null,
            "object_fit": null,
            "grid_auto_columns": null,
            "margin": null,
            "display": null,
            "left": null
          }
        },
        "610482d61ab942d2a569ce7834802c72": {
          "model_module": "@jupyter-widgets/controls",
          "model_name": "DescriptionStyleModel",
          "state": {
            "_view_name": "StyleView",
            "_model_name": "DescriptionStyleModel",
            "description_width": "",
            "_view_module": "@jupyter-widgets/base",
            "_model_module_version": "1.5.0",
            "_view_count": null,
            "_view_module_version": "1.2.0",
            "_model_module": "@jupyter-widgets/controls"
          }
        },
        "bab54e4d4abd4b57867deff074e33c67": {
          "model_module": "@jupyter-widgets/base",
          "model_name": "LayoutModel",
          "state": {
            "_view_name": "LayoutView",
            "grid_template_rows": null,
            "right": null,
            "justify_content": "center",
            "_view_module": "@jupyter-widgets/base",
            "overflow": null,
            "_model_module_version": "1.2.0",
            "_view_count": null,
            "flex_flow": null,
            "width": "100px",
            "min_width": null,
            "border": null,
            "align_items": null,
            "bottom": null,
            "_model_module": "@jupyter-widgets/base",
            "top": null,
            "grid_column": null,
            "overflow_y": null,
            "overflow_x": null,
            "grid_auto_flow": null,
            "grid_area": null,
            "grid_template_columns": null,
            "flex": null,
            "_model_name": "LayoutModel",
            "justify_items": null,
            "grid_row": null,
            "max_height": null,
            "align_content": null,
            "visibility": null,
            "align_self": null,
            "height": null,
            "min_height": null,
            "padding": null,
            "grid_auto_rows": null,
            "grid_gap": null,
            "max_width": null,
            "order": null,
            "_view_module_version": "1.2.0",
            "grid_template_areas": null,
            "object_position": null,
            "object_fit": null,
            "grid_auto_columns": null,
            "margin": null,
            "display": "flex",
            "left": null
          }
        },
        "203770ab1eb8429398951c9caffc9c27": {
          "model_module": "@jupyter-widgets/controls",
          "model_name": "ButtonStyleModel",
          "state": {
            "_view_name": "StyleView",
            "_model_name": "ButtonStyleModel",
            "_view_module": "@jupyter-widgets/base",
            "_model_module_version": "1.5.0",
            "_view_count": null,
            "button_color": null,
            "font_weight": "",
            "_view_module_version": "1.2.0",
            "_model_module": "@jupyter-widgets/controls"
          }
        },
        "9e888b5892054dcebc1ddcc5b0aa50bd": {
          "model_module": "@jupyter-widgets/base",
          "model_name": "LayoutModel",
          "state": {
            "_view_name": "LayoutView",
            "grid_template_rows": null,
            "right": null,
            "justify_content": null,
            "_view_module": "@jupyter-widgets/base",
            "overflow": null,
            "_model_module_version": "1.2.0",
            "_view_count": null,
            "flex_flow": null,
            "width": "60px",
            "min_width": null,
            "border": null,
            "align_items": null,
            "bottom": null,
            "_model_module": "@jupyter-widgets/base",
            "top": null,
            "grid_column": null,
            "overflow_y": null,
            "overflow_x": null,
            "grid_auto_flow": null,
            "grid_area": null,
            "grid_template_columns": null,
            "flex": null,
            "_model_name": "LayoutModel",
            "justify_items": null,
            "grid_row": null,
            "max_height": null,
            "align_content": null,
            "visibility": null,
            "align_self": null,
            "height": null,
            "min_height": null,
            "padding": null,
            "grid_auto_rows": null,
            "grid_gap": null,
            "max_width": null,
            "order": null,
            "_view_module_version": "1.2.0",
            "grid_template_areas": null,
            "object_position": null,
            "object_fit": null,
            "grid_auto_columns": null,
            "margin": null,
            "display": null,
            "left": null
          }
        },
        "b3d338e6dccc4a3484ad8dfdf0bc2f6d": {
          "model_module": "@jupyter-widgets/controls",
          "model_name": "ButtonStyleModel",
          "state": {
            "_view_name": "StyleView",
            "_model_name": "ButtonStyleModel",
            "_view_module": "@jupyter-widgets/base",
            "_model_module_version": "1.5.0",
            "_view_count": null,
            "button_color": null,
            "font_weight": "",
            "_view_module_version": "1.2.0",
            "_model_module": "@jupyter-widgets/controls"
          }
        },
        "89236ad4eaa64150b429ceb5f06421fc": {
          "model_module": "@jupyter-widgets/base",
          "model_name": "LayoutModel",
          "state": {
            "_view_name": "LayoutView",
            "grid_template_rows": null,
            "right": null,
            "justify_content": null,
            "_view_module": "@jupyter-widgets/base",
            "overflow": null,
            "_model_module_version": "1.2.0",
            "_view_count": null,
            "flex_flow": null,
            "width": "60px",
            "min_width": null,
            "border": null,
            "align_items": null,
            "bottom": null,
            "_model_module": "@jupyter-widgets/base",
            "top": null,
            "grid_column": null,
            "overflow_y": null,
            "overflow_x": null,
            "grid_auto_flow": null,
            "grid_area": null,
            "grid_template_columns": null,
            "flex": null,
            "_model_name": "LayoutModel",
            "justify_items": null,
            "grid_row": null,
            "max_height": null,
            "align_content": null,
            "visibility": null,
            "align_self": null,
            "height": null,
            "min_height": null,
            "padding": null,
            "grid_auto_rows": null,
            "grid_gap": null,
            "max_width": null,
            "order": null,
            "_view_module_version": "1.2.0",
            "grid_template_areas": null,
            "object_position": null,
            "object_fit": null,
            "grid_auto_columns": null,
            "margin": null,
            "display": null,
            "left": null
          }
        },
        "4abdd2f9abd143f0ac586cbc5d31f0ca": {
          "model_module": "@jupyter-widgets/controls",
          "model_name": "DescriptionStyleModel",
          "state": {
            "_view_name": "StyleView",
            "_model_name": "DescriptionStyleModel",
            "description_width": "",
            "_view_module": "@jupyter-widgets/base",
            "_model_module_version": "1.5.0",
            "_view_count": null,
            "_view_module_version": "1.2.0",
            "_model_module": "@jupyter-widgets/controls"
          }
        },
        "48de76edc044432d9e4fe9a789161be4": {
          "model_module": "@jupyter-widgets/base",
          "model_name": "LayoutModel",
          "state": {
            "_view_name": "LayoutView",
            "grid_template_rows": null,
            "right": null,
            "justify_content": null,
            "_view_module": "@jupyter-widgets/base",
            "overflow": null,
            "_model_module_version": "1.2.0",
            "_view_count": null,
            "flex_flow": null,
            "width": null,
            "min_width": null,
            "border": null,
            "align_items": null,
            "bottom": null,
            "_model_module": "@jupyter-widgets/base",
            "top": null,
            "grid_column": null,
            "overflow_y": null,
            "overflow_x": null,
            "grid_auto_flow": null,
            "grid_area": null,
            "grid_template_columns": null,
            "flex": null,
            "_model_name": "LayoutModel",
            "justify_items": null,
            "grid_row": null,
            "max_height": null,
            "align_content": null,
            "visibility": null,
            "align_self": null,
            "height": null,
            "min_height": null,
            "padding": null,
            "grid_auto_rows": null,
            "grid_gap": null,
            "max_width": null,
            "order": null,
            "_view_module_version": "1.2.0",
            "grid_template_areas": null,
            "object_position": null,
            "object_fit": null,
            "grid_auto_columns": null,
            "margin": null,
            "display": null,
            "left": null
          }
        },
        "ec70f90901ff4fc8aa70a7786a9ed0ba": {
          "model_module": "@jupyter-widgets/controls",
          "model_name": "ButtonStyleModel",
          "state": {
            "_view_name": "StyleView",
            "_model_name": "ButtonStyleModel",
            "_view_module": "@jupyter-widgets/base",
            "_model_module_version": "1.5.0",
            "_view_count": null,
            "button_color": null,
            "font_weight": "",
            "_view_module_version": "1.2.0",
            "_model_module": "@jupyter-widgets/controls"
          }
        },
        "02389c87eaa24ac1b4a9d7c8dd346ab1": {
          "model_module": "@jupyter-widgets/base",
          "model_name": "LayoutModel",
          "state": {
            "_view_name": "LayoutView",
            "grid_template_rows": null,
            "right": null,
            "justify_content": null,
            "_view_module": "@jupyter-widgets/base",
            "overflow": null,
            "_model_module_version": "1.2.0",
            "_view_count": null,
            "flex_flow": null,
            "width": "40px",
            "min_width": null,
            "border": null,
            "align_items": null,
            "bottom": null,
            "_model_module": "@jupyter-widgets/base",
            "top": null,
            "grid_column": null,
            "overflow_y": null,
            "overflow_x": null,
            "grid_auto_flow": null,
            "grid_area": null,
            "grid_template_columns": null,
            "flex": null,
            "_model_name": "LayoutModel",
            "justify_items": null,
            "grid_row": null,
            "max_height": null,
            "align_content": null,
            "visibility": null,
            "align_self": null,
            "height": null,
            "min_height": null,
            "padding": null,
            "grid_auto_rows": null,
            "grid_gap": null,
            "max_width": null,
            "order": null,
            "_view_module_version": "1.2.0",
            "grid_template_areas": null,
            "object_position": null,
            "object_fit": null,
            "grid_auto_columns": null,
            "margin": "0px 0px 0px 10px",
            "display": null,
            "left": null
          }
        },
        "da66488792f647dea672ac4002b53e5f": {
          "model_module": "@jupyter-widgets/controls",
          "model_name": "HTMLModel",
          "state": {
            "_view_name": "HTMLView",
            "style": "IPY_MODEL_805daeae0a6242f4822df6c60c8a58fa",
            "_dom_classes": [],
            "description": "",
            "_model_name": "HTMLModel",
            "placeholder": "​",
            "_view_module": "@jupyter-widgets/controls",
            "_model_module_version": "1.5.0",
            "value": "<h2>No images left to display in this folder.</h2>",
            "_view_count": null,
            "_view_module_version": "1.5.0",
            "description_tooltip": null,
            "_model_module": "@jupyter-widgets/controls",
            "layout": "IPY_MODEL_e89fe3a1a4c342689e2c0a075a0352f2"
          }
        },
        "805daeae0a6242f4822df6c60c8a58fa": {
          "model_module": "@jupyter-widgets/controls",
          "model_name": "DescriptionStyleModel",
          "state": {
            "_view_name": "StyleView",
            "_model_name": "DescriptionStyleModel",
            "description_width": "",
            "_view_module": "@jupyter-widgets/base",
            "_model_module_version": "1.5.0",
            "_view_count": null,
            "_view_module_version": "1.2.0",
            "_model_module": "@jupyter-widgets/controls"
          }
        },
        "e89fe3a1a4c342689e2c0a075a0352f2": {
          "model_module": "@jupyter-widgets/base",
          "model_name": "LayoutModel",
          "state": {
            "_view_name": "LayoutView",
            "grid_template_rows": null,
            "right": null,
            "justify_content": null,
            "_view_module": "@jupyter-widgets/base",
            "overflow": null,
            "_model_module_version": "1.2.0",
            "_view_count": null,
            "flex_flow": null,
            "width": null,
            "min_width": null,
            "border": null,
            "align_items": null,
            "bottom": null,
            "_model_module": "@jupyter-widgets/base",
            "top": null,
            "grid_column": null,
            "overflow_y": null,
            "overflow_x": null,
            "grid_auto_flow": null,
            "grid_area": null,
            "grid_template_columns": null,
            "flex": null,
            "_model_name": "LayoutModel",
            "justify_items": null,
            "grid_row": null,
            "max_height": null,
            "align_content": null,
            "visibility": "hidden",
            "align_self": null,
            "height": null,
            "min_height": null,
            "padding": null,
            "grid_auto_rows": null,
            "grid_gap": null,
            "max_width": null,
            "order": null,
            "_view_module_version": "1.2.0",
            "grid_template_areas": null,
            "object_position": null,
            "object_fit": null,
            "grid_auto_columns": null,
            "margin": null,
            "display": null,
            "left": null
          }
        },
        "4259f3e35c7f4baaa3561f94fceabd61": {
          "model_module": "@jupyter-widgets/controls",
          "model_name": "GridBoxModel",
          "state": {
            "_view_name": "GridBoxView",
            "_dom_classes": [],
            "_model_name": "GridBoxModel",
            "_view_module": "@jupyter-widgets/controls",
            "_model_module_version": "1.5.0",
            "_view_count": null,
            "_view_module_version": "1.5.0",
            "box_style": "",
            "layout": "IPY_MODEL_2a30a53c9e6345179c07c500debec1de",
            "_model_module": "@jupyter-widgets/controls",
            "children": [
              "IPY_MODEL_14c420f242814686955bbba368d3bd91",
              "IPY_MODEL_86cd5716b21f4bc8b3c5f2a99d17906c",
              "IPY_MODEL_a5eb74ef082e47d381dbb5db3a1dbb9f",
              "IPY_MODEL_d798b345b80e45e280ba5d79ebd9d964",
              "IPY_MODEL_d69d17dceb1041558b57a8093350ecb9",
              "IPY_MODEL_2b574525a5884b2b80a2beca36c486d1",
              "IPY_MODEL_b6ef465aeb6b4b1fbbd28182c3bcfaed",
              "IPY_MODEL_d33763026383489cabf36c209cc3a185"
            ]
          }
        },
        "2a30a53c9e6345179c07c500debec1de": {
          "model_module": "@jupyter-widgets/base",
          "model_name": "LayoutModel",
          "state": {
            "_view_name": "LayoutView",
            "grid_template_rows": null,
            "right": null,
            "justify_content": null,
            "_view_module": "@jupyter-widgets/base",
            "overflow": null,
            "_model_module_version": "1.2.0",
            "_view_count": null,
            "flex_flow": null,
            "width": null,
            "min_width": null,
            "border": null,
            "align_items": null,
            "bottom": null,
            "_model_module": "@jupyter-widgets/base",
            "top": null,
            "grid_column": null,
            "overflow_y": null,
            "overflow_x": null,
            "grid_auto_flow": null,
            "grid_area": null,
            "grid_template_columns": "repeat(4, 25%)",
            "flex": null,
            "_model_name": "LayoutModel",
            "justify_items": null,
            "grid_row": null,
            "max_height": null,
            "align_content": null,
            "visibility": "visible",
            "align_self": null,
            "height": null,
            "min_height": null,
            "padding": null,
            "grid_auto_rows": null,
            "grid_gap": null,
            "max_width": null,
            "order": null,
            "_view_module_version": "1.2.0",
            "grid_template_areas": null,
            "object_position": null,
            "object_fit": null,
            "grid_auto_columns": null,
            "margin": "15px",
            "display": null,
            "left": null
          }
        },
        "14c420f242814686955bbba368d3bd91": {
          "model_module": "@jupyter-widgets/controls",
          "model_name": "VBoxModel",
          "state": {
            "_view_name": "VBoxView",
            "_dom_classes": [],
            "_model_name": "VBoxModel",
            "_view_module": "@jupyter-widgets/controls",
            "_model_module_version": "1.5.0",
            "_view_count": null,
            "_view_module_version": "1.5.0",
            "box_style": "",
            "layout": "IPY_MODEL_f9493cd6905d4a709453532eb19a6d10",
            "_model_module": "@jupyter-widgets/controls",
            "children": [
              "IPY_MODEL_2ec20625d4de42e6b88bd5c80c8c39d6",
              "IPY_MODEL_e135198ea81e4be5830f06e925583945"
            ]
          }
        },
        "86cd5716b21f4bc8b3c5f2a99d17906c": {
          "model_module": "@jupyter-widgets/controls",
          "model_name": "VBoxModel",
          "state": {
            "_view_name": "VBoxView",
            "_dom_classes": [],
            "_model_name": "VBoxModel",
            "_view_module": "@jupyter-widgets/controls",
            "_model_module_version": "1.5.0",
            "_view_count": null,
            "_view_module_version": "1.5.0",
            "box_style": "",
            "layout": "IPY_MODEL_c4b6173542fe4025b1e03852688c4c9c",
            "_model_module": "@jupyter-widgets/controls",
            "children": [
              "IPY_MODEL_b8ebce2da1984bddb0340a882d100a31",
              "IPY_MODEL_47879702175247c6916bdb7d56d1dfca"
            ]
          }
        },
        "a5eb74ef082e47d381dbb5db3a1dbb9f": {
          "model_module": "@jupyter-widgets/controls",
          "model_name": "VBoxModel",
          "state": {
            "_view_name": "VBoxView",
            "_dom_classes": [],
            "_model_name": "VBoxModel",
            "_view_module": "@jupyter-widgets/controls",
            "_model_module_version": "1.5.0",
            "_view_count": null,
            "_view_module_version": "1.5.0",
            "box_style": "",
            "layout": "IPY_MODEL_ad5b792f18a84b06b58e7ef859a57349",
            "_model_module": "@jupyter-widgets/controls",
            "children": [
              "IPY_MODEL_2bc6c774379c424aa7a3e0c690eb3e45",
              "IPY_MODEL_c523df3e8aa54d3abf39e01ff6c32569"
            ]
          }
        },
        "d798b345b80e45e280ba5d79ebd9d964": {
          "model_module": "@jupyter-widgets/controls",
          "model_name": "VBoxModel",
          "state": {
            "_view_name": "VBoxView",
            "_dom_classes": [],
            "_model_name": "VBoxModel",
            "_view_module": "@jupyter-widgets/controls",
            "_model_module_version": "1.5.0",
            "_view_count": null,
            "_view_module_version": "1.5.0",
            "box_style": "",
            "layout": "IPY_MODEL_46140b10bba040c7a88f758fa1339cb0",
            "_model_module": "@jupyter-widgets/controls",
            "children": [
              "IPY_MODEL_661ab51ca1374b60a56a8364c7ccdd7c",
              "IPY_MODEL_24725ae8736e43769b8928b166e9ebab"
            ]
          }
        },
        "d69d17dceb1041558b57a8093350ecb9": {
          "model_module": "@jupyter-widgets/controls",
          "model_name": "VBoxModel",
          "state": {
            "_view_name": "VBoxView",
            "_dom_classes": [],
            "_model_name": "VBoxModel",
            "_view_module": "@jupyter-widgets/controls",
            "_model_module_version": "1.5.0",
            "_view_count": null,
            "_view_module_version": "1.5.0",
            "box_style": "",
            "layout": "IPY_MODEL_424f38980d2f4d5fb6a4283167c2f028",
            "_model_module": "@jupyter-widgets/controls",
            "children": [
              "IPY_MODEL_31298a045f1e403fabe1e1f79b61881f",
              "IPY_MODEL_7c94736c996a4a4dbf4f8ba7772de07e"
            ]
          }
        },
        "2b574525a5884b2b80a2beca36c486d1": {
          "model_module": "@jupyter-widgets/controls",
          "model_name": "VBoxModel",
          "state": {
            "_view_name": "VBoxView",
            "_dom_classes": [],
            "_model_name": "VBoxModel",
            "_view_module": "@jupyter-widgets/controls",
            "_model_module_version": "1.5.0",
            "_view_count": null,
            "_view_module_version": "1.5.0",
            "box_style": "",
            "layout": "IPY_MODEL_5e959c430b13447d81a7a2bea52b7966",
            "_model_module": "@jupyter-widgets/controls",
            "children": [
              "IPY_MODEL_95b9326acf044497abd088a96ac84b99",
              "IPY_MODEL_db10d8b1913047858a18fa298221a537"
            ]
          }
        },
        "b6ef465aeb6b4b1fbbd28182c3bcfaed": {
          "model_module": "@jupyter-widgets/controls",
          "model_name": "VBoxModel",
          "state": {
            "_view_name": "VBoxView",
            "_dom_classes": [],
            "_model_name": "VBoxModel",
            "_view_module": "@jupyter-widgets/controls",
            "_model_module_version": "1.5.0",
            "_view_count": null,
            "_view_module_version": "1.5.0",
            "box_style": "",
            "layout": "IPY_MODEL_e3c1171807b1408eba17d7ca2b412408",
            "_model_module": "@jupyter-widgets/controls",
            "children": [
              "IPY_MODEL_b90955afaac04607a1f2dff5c9b0c6a2",
              "IPY_MODEL_140707bfc6664a77bdaa2f0704e424d8"
            ]
          }
        },
        "d33763026383489cabf36c209cc3a185": {
          "model_module": "@jupyter-widgets/controls",
          "model_name": "VBoxModel",
          "state": {
            "_view_name": "VBoxView",
            "_dom_classes": [],
            "_model_name": "VBoxModel",
            "_view_module": "@jupyter-widgets/controls",
            "_model_module_version": "1.5.0",
            "_view_count": null,
            "_view_module_version": "1.5.0",
            "box_style": "",
            "layout": "IPY_MODEL_b2dd5677763849f2912837bee8b33311",
            "_model_module": "@jupyter-widgets/controls",
            "children": [
              "IPY_MODEL_2c73ca9042d84b8280375db3e04e613c",
              "IPY_MODEL_11fe9a9228f442c38a6f83b5b679ac2c"
            ]
          }
        },
        "f9493cd6905d4a709453532eb19a6d10": {
          "model_module": "@jupyter-widgets/base",
          "model_name": "LayoutModel",
          "state": {
            "_view_name": "LayoutView",
            "grid_template_rows": null,
            "right": null,
            "justify_content": null,
            "_view_module": "@jupyter-widgets/base",
            "overflow": null,
            "_model_module_version": "1.2.0",
            "_view_count": null,
            "flex_flow": null,
            "width": null,
            "min_width": null,
            "border": null,
            "align_items": null,
            "bottom": null,
            "_model_module": "@jupyter-widgets/base",
            "top": null,
            "grid_column": null,
            "overflow_y": null,
            "overflow_x": null,
            "grid_auto_flow": null,
            "grid_area": null,
            "grid_template_columns": null,
            "flex": null,
            "_model_name": "LayoutModel",
            "justify_items": null,
            "grid_row": null,
            "max_height": null,
            "align_content": null,
            "visibility": "visible",
            "align_self": null,
            "height": null,
            "min_height": null,
            "padding": null,
            "grid_auto_rows": null,
            "grid_gap": null,
            "max_width": null,
            "order": null,
            "_view_module_version": "1.2.0",
            "grid_template_areas": null,
            "object_position": null,
            "object_fit": null,
            "grid_auto_columns": null,
            "margin": "5px",
            "display": null,
            "left": null
          }
        },
        "2ec20625d4de42e6b88bd5c80c8c39d6": {
          "model_module": "@jupyter-widgets/controls",
          "model_name": "ImageModel",
          "state": {
            "_view_name": "ImageView",
            "_dom_classes": [],
            "_model_name": "ImageModel",
            "format": "png",
            "_view_module": "@jupyter-widgets/controls",
            "_model_module_version": "1.5.0",
            "_view_count": null,
            "width": "",
            "_view_module_version": "1.5.0",
            "layout": "IPY_MODEL_e151818c9c334c6da49ef9be232fa195",
            "height": "",
            "_model_module": "@jupyter-widgets/controls"
          }
        },
        "e135198ea81e4be5830f06e925583945": {
          "model_module": "@jupyter-widgets/controls",
          "model_name": "ButtonModel",
          "state": {
            "_view_name": "ButtonView",
            "style": "IPY_MODEL_6c2a58ea366244bab3aec79eab3daf46",
            "_dom_classes": [],
            "description": "Delete",
            "_model_name": "ButtonModel",
            "button_style": "",
            "_view_module": "@jupyter-widgets/controls",
            "_model_module_version": "1.5.0",
            "tooltip": "",
            "_view_count": null,
            "disabled": false,
            "_view_module_version": "1.5.0",
            "layout": "IPY_MODEL_4518444840a449ed97630afe869155ac",
            "_model_module": "@jupyter-widgets/controls",
            "icon": ""
          }
        },
        "c4b6173542fe4025b1e03852688c4c9c": {
          "model_module": "@jupyter-widgets/base",
          "model_name": "LayoutModel",
          "state": {
            "_view_name": "LayoutView",
            "grid_template_rows": null,
            "right": null,
            "justify_content": null,
            "_view_module": "@jupyter-widgets/base",
            "overflow": null,
            "_model_module_version": "1.2.0",
            "_view_count": null,
            "flex_flow": null,
            "width": null,
            "min_width": null,
            "border": null,
            "align_items": null,
            "bottom": null,
            "_model_module": "@jupyter-widgets/base",
            "top": null,
            "grid_column": null,
            "overflow_y": null,
            "overflow_x": null,
            "grid_auto_flow": null,
            "grid_area": null,
            "grid_template_columns": null,
            "flex": null,
            "_model_name": "LayoutModel",
            "justify_items": null,
            "grid_row": null,
            "max_height": null,
            "align_content": null,
            "visibility": "visible",
            "align_self": null,
            "height": null,
            "min_height": null,
            "padding": null,
            "grid_auto_rows": null,
            "grid_gap": null,
            "max_width": null,
            "order": null,
            "_view_module_version": "1.2.0",
            "grid_template_areas": null,
            "object_position": null,
            "object_fit": null,
            "grid_auto_columns": null,
            "margin": "5px",
            "display": null,
            "left": null
          }
        },
        "b8ebce2da1984bddb0340a882d100a31": {
          "model_module": "@jupyter-widgets/controls",
          "model_name": "ImageModel",
          "state": {
            "_view_name": "ImageView",
            "_dom_classes": [],
            "_model_name": "ImageModel",
            "format": "png",
            "_view_module": "@jupyter-widgets/controls",
            "_model_module_version": "1.5.0",
            "_view_count": null,
            "width": "",
            "_view_module_version": "1.5.0",
            "layout": "IPY_MODEL_6684ab58f85d4913a997eb7dd4b5fff8",
            "height": "",
            "_model_module": "@jupyter-widgets/controls"
          }
        },
        "47879702175247c6916bdb7d56d1dfca": {
          "model_module": "@jupyter-widgets/controls",
          "model_name": "ButtonModel",
          "state": {
            "_view_name": "ButtonView",
            "style": "IPY_MODEL_404875e1b166461d8f2ca944b50520fc",
            "_dom_classes": [],
            "description": "Delete",
            "_model_name": "ButtonModel",
            "button_style": "",
            "_view_module": "@jupyter-widgets/controls",
            "_model_module_version": "1.5.0",
            "tooltip": "",
            "_view_count": null,
            "disabled": false,
            "_view_module_version": "1.5.0",
            "layout": "IPY_MODEL_a2074b8fe2134649a9f228354d9efd1d",
            "_model_module": "@jupyter-widgets/controls",
            "icon": ""
          }
        },
        "ad5b792f18a84b06b58e7ef859a57349": {
          "model_module": "@jupyter-widgets/base",
          "model_name": "LayoutModel",
          "state": {
            "_view_name": "LayoutView",
            "grid_template_rows": null,
            "right": null,
            "justify_content": null,
            "_view_module": "@jupyter-widgets/base",
            "overflow": null,
            "_model_module_version": "1.2.0",
            "_view_count": null,
            "flex_flow": null,
            "width": null,
            "min_width": null,
            "border": null,
            "align_items": null,
            "bottom": null,
            "_model_module": "@jupyter-widgets/base",
            "top": null,
            "grid_column": null,
            "overflow_y": null,
            "overflow_x": null,
            "grid_auto_flow": null,
            "grid_area": null,
            "grid_template_columns": null,
            "flex": null,
            "_model_name": "LayoutModel",
            "justify_items": null,
            "grid_row": null,
            "max_height": null,
            "align_content": null,
            "visibility": "visible",
            "align_self": null,
            "height": null,
            "min_height": null,
            "padding": null,
            "grid_auto_rows": null,
            "grid_gap": null,
            "max_width": null,
            "order": null,
            "_view_module_version": "1.2.0",
            "grid_template_areas": null,
            "object_position": null,
            "object_fit": null,
            "grid_auto_columns": null,
            "margin": "5px",
            "display": null,
            "left": null
          }
        },
        "2bc6c774379c424aa7a3e0c690eb3e45": {
          "model_module": "@jupyter-widgets/controls",
          "model_name": "ImageModel",
          "state": {
            "_view_name": "ImageView",
            "_dom_classes": [],
            "_model_name": "ImageModel",
            "format": "png",
            "_view_module": "@jupyter-widgets/controls",
            "_model_module_version": "1.5.0",
            "_view_count": null,
            "width": "",
            "_view_module_version": "1.5.0",
            "layout": "IPY_MODEL_0e3818646feb4dd9b6a10d0b6fb84784",
            "height": "",
            "_model_module": "@jupyter-widgets/controls"
          }
        },
        "c523df3e8aa54d3abf39e01ff6c32569": {
          "model_module": "@jupyter-widgets/controls",
          "model_name": "ButtonModel",
          "state": {
            "_view_name": "ButtonView",
            "style": "IPY_MODEL_7fb46de04ac640d998380ecda5ebff82",
            "_dom_classes": [],
            "description": "Delete",
            "_model_name": "ButtonModel",
            "button_style": "",
            "_view_module": "@jupyter-widgets/controls",
            "_model_module_version": "1.5.0",
            "tooltip": "",
            "_view_count": null,
            "disabled": false,
            "_view_module_version": "1.5.0",
            "layout": "IPY_MODEL_da358c46529f4ebaa71f97abbf7eabb8",
            "_model_module": "@jupyter-widgets/controls",
            "icon": ""
          }
        },
        "46140b10bba040c7a88f758fa1339cb0": {
          "model_module": "@jupyter-widgets/base",
          "model_name": "LayoutModel",
          "state": {
            "_view_name": "LayoutView",
            "grid_template_rows": null,
            "right": null,
            "justify_content": null,
            "_view_module": "@jupyter-widgets/base",
            "overflow": null,
            "_model_module_version": "1.2.0",
            "_view_count": null,
            "flex_flow": null,
            "width": null,
            "min_width": null,
            "border": null,
            "align_items": null,
            "bottom": null,
            "_model_module": "@jupyter-widgets/base",
            "top": null,
            "grid_column": null,
            "overflow_y": null,
            "overflow_x": null,
            "grid_auto_flow": null,
            "grid_area": null,
            "grid_template_columns": null,
            "flex": null,
            "_model_name": "LayoutModel",
            "justify_items": null,
            "grid_row": null,
            "max_height": null,
            "align_content": null,
            "visibility": "visible",
            "align_self": null,
            "height": null,
            "min_height": null,
            "padding": null,
            "grid_auto_rows": null,
            "grid_gap": null,
            "max_width": null,
            "order": null,
            "_view_module_version": "1.2.0",
            "grid_template_areas": null,
            "object_position": null,
            "object_fit": null,
            "grid_auto_columns": null,
            "margin": "5px",
            "display": null,
            "left": null
          }
        },
        "661ab51ca1374b60a56a8364c7ccdd7c": {
          "model_module": "@jupyter-widgets/controls",
          "model_name": "ImageModel",
          "state": {
            "_view_name": "ImageView",
            "_dom_classes": [],
            "_model_name": "ImageModel",
            "format": "png",
            "_view_module": "@jupyter-widgets/controls",
            "_model_module_version": "1.5.0",
            "_view_count": null,
            "width": "",
            "_view_module_version": "1.5.0",
            "layout": "IPY_MODEL_959c54c629c44b86b09af13360f4b5d5",
            "height": "",
            "_model_module": "@jupyter-widgets/controls"
          }
        },
        "24725ae8736e43769b8928b166e9ebab": {
          "model_module": "@jupyter-widgets/controls",
          "model_name": "ButtonModel",
          "state": {
            "_view_name": "ButtonView",
            "style": "IPY_MODEL_4d8f820319e4476c98c75ca6ba8a3120",
            "_dom_classes": [],
            "description": "Delete",
            "_model_name": "ButtonModel",
            "button_style": "",
            "_view_module": "@jupyter-widgets/controls",
            "_model_module_version": "1.5.0",
            "tooltip": "",
            "_view_count": null,
            "disabled": false,
            "_view_module_version": "1.5.0",
            "layout": "IPY_MODEL_602e9568a3084609898640432dbb2bea",
            "_model_module": "@jupyter-widgets/controls",
            "icon": ""
          }
        },
        "424f38980d2f4d5fb6a4283167c2f028": {
          "model_module": "@jupyter-widgets/base",
          "model_name": "LayoutModel",
          "state": {
            "_view_name": "LayoutView",
            "grid_template_rows": null,
            "right": null,
            "justify_content": null,
            "_view_module": "@jupyter-widgets/base",
            "overflow": null,
            "_model_module_version": "1.2.0",
            "_view_count": null,
            "flex_flow": null,
            "width": null,
            "min_width": null,
            "border": null,
            "align_items": null,
            "bottom": null,
            "_model_module": "@jupyter-widgets/base",
            "top": null,
            "grid_column": null,
            "overflow_y": null,
            "overflow_x": null,
            "grid_auto_flow": null,
            "grid_area": null,
            "grid_template_columns": null,
            "flex": null,
            "_model_name": "LayoutModel",
            "justify_items": null,
            "grid_row": null,
            "max_height": null,
            "align_content": null,
            "visibility": "hidden",
            "align_self": null,
            "height": null,
            "min_height": null,
            "padding": null,
            "grid_auto_rows": null,
            "grid_gap": null,
            "max_width": null,
            "order": null,
            "_view_module_version": "1.2.0",
            "grid_template_areas": null,
            "object_position": null,
            "object_fit": null,
            "grid_auto_columns": null,
            "margin": "5px",
            "display": null,
            "left": null
          }
        },
        "31298a045f1e403fabe1e1f79b61881f": {
          "model_module": "@jupyter-widgets/controls",
          "model_name": "ImageModel",
          "state": {
            "_view_name": "ImageView",
            "_dom_classes": [],
            "_model_name": "ImageModel",
            "format": "png",
            "_view_module": "@jupyter-widgets/controls",
            "_model_module_version": "1.5.0",
            "_view_count": null,
            "width": "",
            "_view_module_version": "1.5.0",
            "layout": "IPY_MODEL_dbef24508bfc4bffba7d52c7698bd40d",
            "height": "",
            "_model_module": "@jupyter-widgets/controls"
          }
        },
        "7c94736c996a4a4dbf4f8ba7772de07e": {
          "model_module": "@jupyter-widgets/controls",
          "model_name": "ButtonModel",
          "state": {
            "_view_name": "ButtonView",
            "style": "IPY_MODEL_2dd4e25e3fe046d1a6c354c750234a0f",
            "_dom_classes": [],
            "description": "Delete",
            "_model_name": "ButtonModel",
            "button_style": "",
            "_view_module": "@jupyter-widgets/controls",
            "_model_module_version": "1.5.0",
            "tooltip": "",
            "_view_count": null,
            "disabled": false,
            "_view_module_version": "1.5.0",
            "layout": "IPY_MODEL_28d4f6e272b74169aa7053b27524547a",
            "_model_module": "@jupyter-widgets/controls",
            "icon": ""
          }
        },
        "5e959c430b13447d81a7a2bea52b7966": {
          "model_module": "@jupyter-widgets/base",
          "model_name": "LayoutModel",
          "state": {
            "_view_name": "LayoutView",
            "grid_template_rows": null,
            "right": null,
            "justify_content": null,
            "_view_module": "@jupyter-widgets/base",
            "overflow": null,
            "_model_module_version": "1.2.0",
            "_view_count": null,
            "flex_flow": null,
            "width": null,
            "min_width": null,
            "border": null,
            "align_items": null,
            "bottom": null,
            "_model_module": "@jupyter-widgets/base",
            "top": null,
            "grid_column": null,
            "overflow_y": null,
            "overflow_x": null,
            "grid_auto_flow": null,
            "grid_area": null,
            "grid_template_columns": null,
            "flex": null,
            "_model_name": "LayoutModel",
            "justify_items": null,
            "grid_row": null,
            "max_height": null,
            "align_content": null,
            "visibility": "hidden",
            "align_self": null,
            "height": null,
            "min_height": null,
            "padding": null,
            "grid_auto_rows": null,
            "grid_gap": null,
            "max_width": null,
            "order": null,
            "_view_module_version": "1.2.0",
            "grid_template_areas": null,
            "object_position": null,
            "object_fit": null,
            "grid_auto_columns": null,
            "margin": "5px",
            "display": null,
            "left": null
          }
        },
        "95b9326acf044497abd088a96ac84b99": {
          "model_module": "@jupyter-widgets/controls",
          "model_name": "ImageModel",
          "state": {
            "_view_name": "ImageView",
            "_dom_classes": [],
            "_model_name": "ImageModel",
            "format": "png",
            "_view_module": "@jupyter-widgets/controls",
            "_model_module_version": "1.5.0",
            "_view_count": null,
            "width": "",
            "_view_module_version": "1.5.0",
            "layout": "IPY_MODEL_cf03ea48646f425fb104b62d54fc4ab3",
            "height": "",
            "_model_module": "@jupyter-widgets/controls"
          }
        },
        "db10d8b1913047858a18fa298221a537": {
          "model_module": "@jupyter-widgets/controls",
          "model_name": "ButtonModel",
          "state": {
            "_view_name": "ButtonView",
            "style": "IPY_MODEL_115c3c47e5784c818f35f3f2b281b1a4",
            "_dom_classes": [],
            "description": "Delete",
            "_model_name": "ButtonModel",
            "button_style": "",
            "_view_module": "@jupyter-widgets/controls",
            "_model_module_version": "1.5.0",
            "tooltip": "",
            "_view_count": null,
            "disabled": false,
            "_view_module_version": "1.5.0",
            "layout": "IPY_MODEL_69e63dab59324761bb8b87a5742de3c7",
            "_model_module": "@jupyter-widgets/controls",
            "icon": ""
          }
        },
        "e3c1171807b1408eba17d7ca2b412408": {
          "model_module": "@jupyter-widgets/base",
          "model_name": "LayoutModel",
          "state": {
            "_view_name": "LayoutView",
            "grid_template_rows": null,
            "right": null,
            "justify_content": null,
            "_view_module": "@jupyter-widgets/base",
            "overflow": null,
            "_model_module_version": "1.2.0",
            "_view_count": null,
            "flex_flow": null,
            "width": null,
            "min_width": null,
            "border": null,
            "align_items": null,
            "bottom": null,
            "_model_module": "@jupyter-widgets/base",
            "top": null,
            "grid_column": null,
            "overflow_y": null,
            "overflow_x": null,
            "grid_auto_flow": null,
            "grid_area": null,
            "grid_template_columns": null,
            "flex": null,
            "_model_name": "LayoutModel",
            "justify_items": null,
            "grid_row": null,
            "max_height": null,
            "align_content": null,
            "visibility": "hidden",
            "align_self": null,
            "height": null,
            "min_height": null,
            "padding": null,
            "grid_auto_rows": null,
            "grid_gap": null,
            "max_width": null,
            "order": null,
            "_view_module_version": "1.2.0",
            "grid_template_areas": null,
            "object_position": null,
            "object_fit": null,
            "grid_auto_columns": null,
            "margin": "5px",
            "display": null,
            "left": null
          }
        },
        "b90955afaac04607a1f2dff5c9b0c6a2": {
          "model_module": "@jupyter-widgets/controls",
          "model_name": "ImageModel",
          "state": {
            "_view_name": "ImageView",
            "_dom_classes": [],
            "_model_name": "ImageModel",
            "format": "png",
            "_view_module": "@jupyter-widgets/controls",
            "_model_module_version": "1.5.0",
            "_view_count": null,
            "width": "",
            "_view_module_version": "1.5.0",
            "layout": "IPY_MODEL_41059ea8e4a244fd8fde2595e8463088",
            "height": "",
            "_model_module": "@jupyter-widgets/controls"
          }
        },
        "140707bfc6664a77bdaa2f0704e424d8": {
          "model_module": "@jupyter-widgets/controls",
          "model_name": "ButtonModel",
          "state": {
            "_view_name": "ButtonView",
            "style": "IPY_MODEL_7bb29cb97e164e659576d3a207f6dc4c",
            "_dom_classes": [],
            "description": "Delete",
            "_model_name": "ButtonModel",
            "button_style": "",
            "_view_module": "@jupyter-widgets/controls",
            "_model_module_version": "1.5.0",
            "tooltip": "",
            "_view_count": null,
            "disabled": true,
            "_view_module_version": "1.5.0",
            "layout": "IPY_MODEL_c54241b454974883816ca3028d0a0454",
            "_model_module": "@jupyter-widgets/controls",
            "icon": ""
          }
        },
        "b2dd5677763849f2912837bee8b33311": {
          "model_module": "@jupyter-widgets/base",
          "model_name": "LayoutModel",
          "state": {
            "_view_name": "LayoutView",
            "grid_template_rows": null,
            "right": null,
            "justify_content": null,
            "_view_module": "@jupyter-widgets/base",
            "overflow": null,
            "_model_module_version": "1.2.0",
            "_view_count": null,
            "flex_flow": null,
            "width": null,
            "min_width": null,
            "border": null,
            "align_items": null,
            "bottom": null,
            "_model_module": "@jupyter-widgets/base",
            "top": null,
            "grid_column": null,
            "overflow_y": null,
            "overflow_x": null,
            "grid_auto_flow": null,
            "grid_area": null,
            "grid_template_columns": null,
            "flex": null,
            "_model_name": "LayoutModel",
            "justify_items": null,
            "grid_row": null,
            "max_height": null,
            "align_content": null,
            "visibility": "hidden",
            "align_self": null,
            "height": null,
            "min_height": null,
            "padding": null,
            "grid_auto_rows": null,
            "grid_gap": null,
            "max_width": null,
            "order": null,
            "_view_module_version": "1.2.0",
            "grid_template_areas": null,
            "object_position": null,
            "object_fit": null,
            "grid_auto_columns": null,
            "margin": "5px",
            "display": null,
            "left": null
          }
        },
        "2c73ca9042d84b8280375db3e04e613c": {
          "model_module": "@jupyter-widgets/controls",
          "model_name": "ImageModel",
          "state": {
            "_view_name": "ImageView",
            "_dom_classes": [],
            "_model_name": "ImageModel",
            "format": "png",
            "_view_module": "@jupyter-widgets/controls",
            "_model_module_version": "1.5.0",
            "_view_count": null,
            "width": "",
            "_view_module_version": "1.5.0",
            "layout": "IPY_MODEL_01ac1aced1984cd98894c50faf823e15",
            "height": "",
            "_model_module": "@jupyter-widgets/controls"
          }
        },
        "11fe9a9228f442c38a6f83b5b679ac2c": {
          "model_module": "@jupyter-widgets/controls",
          "model_name": "ButtonModel",
          "state": {
            "_view_name": "ButtonView",
            "style": "IPY_MODEL_f3047bc152c84352824e2338f6e9eba3",
            "_dom_classes": [],
            "description": "Delete",
            "_model_name": "ButtonModel",
            "button_style": "",
            "_view_module": "@jupyter-widgets/controls",
            "_model_module_version": "1.5.0",
            "tooltip": "",
            "_view_count": null,
            "disabled": false,
            "_view_module_version": "1.5.0",
            "layout": "IPY_MODEL_058084ee43e04a6b97bf9ed020f7f02e",
            "_model_module": "@jupyter-widgets/controls",
            "icon": ""
          }
        },
        "e151818c9c334c6da49ef9be232fa195": {
          "model_module": "@jupyter-widgets/base",
          "model_name": "LayoutModel",
          "state": {
            "_view_name": "LayoutView",
            "grid_template_rows": null,
            "right": null,
            "justify_content": null,
            "_view_module": "@jupyter-widgets/base",
            "overflow": null,
            "_model_module_version": "1.2.0",
            "_view_count": null,
            "flex_flow": null,
            "width": "150px",
            "min_width": null,
            "border": null,
            "align_items": null,
            "bottom": null,
            "_model_module": "@jupyter-widgets/base",
            "top": null,
            "grid_column": null,
            "overflow_y": null,
            "overflow_x": null,
            "grid_auto_flow": null,
            "grid_area": null,
            "grid_template_columns": null,
            "flex": null,
            "_model_name": "LayoutModel",
            "justify_items": null,
            "grid_row": null,
            "max_height": null,
            "align_content": null,
            "visibility": null,
            "align_self": null,
            "height": null,
            "min_height": null,
            "padding": null,
            "grid_auto_rows": null,
            "grid_gap": null,
            "max_width": null,
            "order": null,
            "_view_module_version": "1.2.0",
            "grid_template_areas": null,
            "object_position": null,
            "object_fit": null,
            "grid_auto_columns": null,
            "margin": null,
            "display": null,
            "left": null
          }
        },
        "6c2a58ea366244bab3aec79eab3daf46": {
          "model_module": "@jupyter-widgets/controls",
          "model_name": "ButtonStyleModel",
          "state": {
            "_view_name": "StyleView",
            "_model_name": "ButtonStyleModel",
            "_view_module": "@jupyter-widgets/base",
            "_model_module_version": "1.5.0",
            "_view_count": null,
            "button_color": null,
            "font_weight": "",
            "_view_module_version": "1.2.0",
            "_model_module": "@jupyter-widgets/controls"
          }
        },
        "4518444840a449ed97630afe869155ac": {
          "model_module": "@jupyter-widgets/base",
          "model_name": "LayoutModel",
          "state": {
            "_view_name": "LayoutView",
            "grid_template_rows": null,
            "right": null,
            "justify_content": null,
            "_view_module": "@jupyter-widgets/base",
            "overflow": null,
            "_model_module_version": "1.2.0",
            "_view_count": null,
            "flex_flow": null,
            "width": null,
            "min_width": null,
            "border": null,
            "align_items": null,
            "bottom": null,
            "_model_module": "@jupyter-widgets/base",
            "top": null,
            "grid_column": null,
            "overflow_y": null,
            "overflow_x": null,
            "grid_auto_flow": null,
            "grid_area": null,
            "grid_template_columns": null,
            "flex": null,
            "_model_name": "LayoutModel",
            "justify_items": null,
            "grid_row": null,
            "max_height": null,
            "align_content": null,
            "visibility": null,
            "align_self": null,
            "height": null,
            "min_height": null,
            "padding": null,
            "grid_auto_rows": null,
            "grid_gap": null,
            "max_width": null,
            "order": null,
            "_view_module_version": "1.2.0",
            "grid_template_areas": null,
            "object_position": null,
            "object_fit": null,
            "grid_auto_columns": null,
            "margin": null,
            "display": null,
            "left": null
          }
        },
        "6684ab58f85d4913a997eb7dd4b5fff8": {
          "model_module": "@jupyter-widgets/base",
          "model_name": "LayoutModel",
          "state": {
            "_view_name": "LayoutView",
            "grid_template_rows": null,
            "right": null,
            "justify_content": null,
            "_view_module": "@jupyter-widgets/base",
            "overflow": null,
            "_model_module_version": "1.2.0",
            "_view_count": null,
            "flex_flow": null,
            "width": "150px",
            "min_width": null,
            "border": null,
            "align_items": null,
            "bottom": null,
            "_model_module": "@jupyter-widgets/base",
            "top": null,
            "grid_column": null,
            "overflow_y": null,
            "overflow_x": null,
            "grid_auto_flow": null,
            "grid_area": null,
            "grid_template_columns": null,
            "flex": null,
            "_model_name": "LayoutModel",
            "justify_items": null,
            "grid_row": null,
            "max_height": null,
            "align_content": null,
            "visibility": null,
            "align_self": null,
            "height": null,
            "min_height": null,
            "padding": null,
            "grid_auto_rows": null,
            "grid_gap": null,
            "max_width": null,
            "order": null,
            "_view_module_version": "1.2.0",
            "grid_template_areas": null,
            "object_position": null,
            "object_fit": null,
            "grid_auto_columns": null,
            "margin": null,
            "display": null,
            "left": null
          }
        },
        "404875e1b166461d8f2ca944b50520fc": {
          "model_module": "@jupyter-widgets/controls",
          "model_name": "ButtonStyleModel",
          "state": {
            "_view_name": "StyleView",
            "_model_name": "ButtonStyleModel",
            "_view_module": "@jupyter-widgets/base",
            "_model_module_version": "1.5.0",
            "_view_count": null,
            "button_color": null,
            "font_weight": "",
            "_view_module_version": "1.2.0",
            "_model_module": "@jupyter-widgets/controls"
          }
        },
        "a2074b8fe2134649a9f228354d9efd1d": {
          "model_module": "@jupyter-widgets/base",
          "model_name": "LayoutModel",
          "state": {
            "_view_name": "LayoutView",
            "grid_template_rows": null,
            "right": null,
            "justify_content": null,
            "_view_module": "@jupyter-widgets/base",
            "overflow": null,
            "_model_module_version": "1.2.0",
            "_view_count": null,
            "flex_flow": null,
            "width": null,
            "min_width": null,
            "border": null,
            "align_items": null,
            "bottom": null,
            "_model_module": "@jupyter-widgets/base",
            "top": null,
            "grid_column": null,
            "overflow_y": null,
            "overflow_x": null,
            "grid_auto_flow": null,
            "grid_area": null,
            "grid_template_columns": null,
            "flex": null,
            "_model_name": "LayoutModel",
            "justify_items": null,
            "grid_row": null,
            "max_height": null,
            "align_content": null,
            "visibility": null,
            "align_self": null,
            "height": null,
            "min_height": null,
            "padding": null,
            "grid_auto_rows": null,
            "grid_gap": null,
            "max_width": null,
            "order": null,
            "_view_module_version": "1.2.0",
            "grid_template_areas": null,
            "object_position": null,
            "object_fit": null,
            "grid_auto_columns": null,
            "margin": null,
            "display": null,
            "left": null
          }
        },
        "0e3818646feb4dd9b6a10d0b6fb84784": {
          "model_module": "@jupyter-widgets/base",
          "model_name": "LayoutModel",
          "state": {
            "_view_name": "LayoutView",
            "grid_template_rows": null,
            "right": null,
            "justify_content": null,
            "_view_module": "@jupyter-widgets/base",
            "overflow": null,
            "_model_module_version": "1.2.0",
            "_view_count": null,
            "flex_flow": null,
            "width": "150px",
            "min_width": null,
            "border": null,
            "align_items": null,
            "bottom": null,
            "_model_module": "@jupyter-widgets/base",
            "top": null,
            "grid_column": null,
            "overflow_y": null,
            "overflow_x": null,
            "grid_auto_flow": null,
            "grid_area": null,
            "grid_template_columns": null,
            "flex": null,
            "_model_name": "LayoutModel",
            "justify_items": null,
            "grid_row": null,
            "max_height": null,
            "align_content": null,
            "visibility": null,
            "align_self": null,
            "height": null,
            "min_height": null,
            "padding": null,
            "grid_auto_rows": null,
            "grid_gap": null,
            "max_width": null,
            "order": null,
            "_view_module_version": "1.2.0",
            "grid_template_areas": null,
            "object_position": null,
            "object_fit": null,
            "grid_auto_columns": null,
            "margin": null,
            "display": null,
            "left": null
          }
        },
        "7fb46de04ac640d998380ecda5ebff82": {
          "model_module": "@jupyter-widgets/controls",
          "model_name": "ButtonStyleModel",
          "state": {
            "_view_name": "StyleView",
            "_model_name": "ButtonStyleModel",
            "_view_module": "@jupyter-widgets/base",
            "_model_module_version": "1.5.0",
            "_view_count": null,
            "button_color": null,
            "font_weight": "",
            "_view_module_version": "1.2.0",
            "_model_module": "@jupyter-widgets/controls"
          }
        },
        "da358c46529f4ebaa71f97abbf7eabb8": {
          "model_module": "@jupyter-widgets/base",
          "model_name": "LayoutModel",
          "state": {
            "_view_name": "LayoutView",
            "grid_template_rows": null,
            "right": null,
            "justify_content": null,
            "_view_module": "@jupyter-widgets/base",
            "overflow": null,
            "_model_module_version": "1.2.0",
            "_view_count": null,
            "flex_flow": null,
            "width": null,
            "min_width": null,
            "border": null,
            "align_items": null,
            "bottom": null,
            "_model_module": "@jupyter-widgets/base",
            "top": null,
            "grid_column": null,
            "overflow_y": null,
            "overflow_x": null,
            "grid_auto_flow": null,
            "grid_area": null,
            "grid_template_columns": null,
            "flex": null,
            "_model_name": "LayoutModel",
            "justify_items": null,
            "grid_row": null,
            "max_height": null,
            "align_content": null,
            "visibility": null,
            "align_self": null,
            "height": null,
            "min_height": null,
            "padding": null,
            "grid_auto_rows": null,
            "grid_gap": null,
            "max_width": null,
            "order": null,
            "_view_module_version": "1.2.0",
            "grid_template_areas": null,
            "object_position": null,
            "object_fit": null,
            "grid_auto_columns": null,
            "margin": null,
            "display": null,
            "left": null
          }
        },
        "959c54c629c44b86b09af13360f4b5d5": {
          "model_module": "@jupyter-widgets/base",
          "model_name": "LayoutModel",
          "state": {
            "_view_name": "LayoutView",
            "grid_template_rows": null,
            "right": null,
            "justify_content": null,
            "_view_module": "@jupyter-widgets/base",
            "overflow": null,
            "_model_module_version": "1.2.0",
            "_view_count": null,
            "flex_flow": null,
            "width": "150px",
            "min_width": null,
            "border": null,
            "align_items": null,
            "bottom": null,
            "_model_module": "@jupyter-widgets/base",
            "top": null,
            "grid_column": null,
            "overflow_y": null,
            "overflow_x": null,
            "grid_auto_flow": null,
            "grid_area": null,
            "grid_template_columns": null,
            "flex": null,
            "_model_name": "LayoutModel",
            "justify_items": null,
            "grid_row": null,
            "max_height": null,
            "align_content": null,
            "visibility": null,
            "align_self": null,
            "height": null,
            "min_height": null,
            "padding": null,
            "grid_auto_rows": null,
            "grid_gap": null,
            "max_width": null,
            "order": null,
            "_view_module_version": "1.2.0",
            "grid_template_areas": null,
            "object_position": null,
            "object_fit": null,
            "grid_auto_columns": null,
            "margin": null,
            "display": null,
            "left": null
          }
        },
        "4d8f820319e4476c98c75ca6ba8a3120": {
          "model_module": "@jupyter-widgets/controls",
          "model_name": "ButtonStyleModel",
          "state": {
            "_view_name": "StyleView",
            "_model_name": "ButtonStyleModel",
            "_view_module": "@jupyter-widgets/base",
            "_model_module_version": "1.5.0",
            "_view_count": null,
            "button_color": null,
            "font_weight": "",
            "_view_module_version": "1.2.0",
            "_model_module": "@jupyter-widgets/controls"
          }
        },
        "602e9568a3084609898640432dbb2bea": {
          "model_module": "@jupyter-widgets/base",
          "model_name": "LayoutModel",
          "state": {
            "_view_name": "LayoutView",
            "grid_template_rows": null,
            "right": null,
            "justify_content": null,
            "_view_module": "@jupyter-widgets/base",
            "overflow": null,
            "_model_module_version": "1.2.0",
            "_view_count": null,
            "flex_flow": null,
            "width": null,
            "min_width": null,
            "border": null,
            "align_items": null,
            "bottom": null,
            "_model_module": "@jupyter-widgets/base",
            "top": null,
            "grid_column": null,
            "overflow_y": null,
            "overflow_x": null,
            "grid_auto_flow": null,
            "grid_area": null,
            "grid_template_columns": null,
            "flex": null,
            "_model_name": "LayoutModel",
            "justify_items": null,
            "grid_row": null,
            "max_height": null,
            "align_content": null,
            "visibility": null,
            "align_self": null,
            "height": null,
            "min_height": null,
            "padding": null,
            "grid_auto_rows": null,
            "grid_gap": null,
            "max_width": null,
            "order": null,
            "_view_module_version": "1.2.0",
            "grid_template_areas": null,
            "object_position": null,
            "object_fit": null,
            "grid_auto_columns": null,
            "margin": null,
            "display": null,
            "left": null
          }
        },
        "dbef24508bfc4bffba7d52c7698bd40d": {
          "model_module": "@jupyter-widgets/base",
          "model_name": "LayoutModel",
          "state": {
            "_view_name": "LayoutView",
            "grid_template_rows": null,
            "right": null,
            "justify_content": null,
            "_view_module": "@jupyter-widgets/base",
            "overflow": null,
            "_model_module_version": "1.2.0",
            "_view_count": null,
            "flex_flow": null,
            "width": "150px",
            "min_width": null,
            "border": null,
            "align_items": null,
            "bottom": null,
            "_model_module": "@jupyter-widgets/base",
            "top": null,
            "grid_column": null,
            "overflow_y": null,
            "overflow_x": null,
            "grid_auto_flow": null,
            "grid_area": null,
            "grid_template_columns": null,
            "flex": null,
            "_model_name": "LayoutModel",
            "justify_items": null,
            "grid_row": null,
            "max_height": null,
            "align_content": null,
            "visibility": null,
            "align_self": null,
            "height": null,
            "min_height": null,
            "padding": null,
            "grid_auto_rows": null,
            "grid_gap": null,
            "max_width": null,
            "order": null,
            "_view_module_version": "1.2.0",
            "grid_template_areas": null,
            "object_position": null,
            "object_fit": null,
            "grid_auto_columns": null,
            "margin": null,
            "display": null,
            "left": null
          }
        },
        "2dd4e25e3fe046d1a6c354c750234a0f": {
          "model_module": "@jupyter-widgets/controls",
          "model_name": "ButtonStyleModel",
          "state": {
            "_view_name": "StyleView",
            "_model_name": "ButtonStyleModel",
            "_view_module": "@jupyter-widgets/base",
            "_model_module_version": "1.5.0",
            "_view_count": null,
            "button_color": null,
            "font_weight": "",
            "_view_module_version": "1.2.0",
            "_model_module": "@jupyter-widgets/controls"
          }
        },
        "28d4f6e272b74169aa7053b27524547a": {
          "model_module": "@jupyter-widgets/base",
          "model_name": "LayoutModel",
          "state": {
            "_view_name": "LayoutView",
            "grid_template_rows": null,
            "right": null,
            "justify_content": null,
            "_view_module": "@jupyter-widgets/base",
            "overflow": null,
            "_model_module_version": "1.2.0",
            "_view_count": null,
            "flex_flow": null,
            "width": null,
            "min_width": null,
            "border": null,
            "align_items": null,
            "bottom": null,
            "_model_module": "@jupyter-widgets/base",
            "top": null,
            "grid_column": null,
            "overflow_y": null,
            "overflow_x": null,
            "grid_auto_flow": null,
            "grid_area": null,
            "grid_template_columns": null,
            "flex": null,
            "_model_name": "LayoutModel",
            "justify_items": null,
            "grid_row": null,
            "max_height": null,
            "align_content": null,
            "visibility": null,
            "align_self": null,
            "height": null,
            "min_height": null,
            "padding": null,
            "grid_auto_rows": null,
            "grid_gap": null,
            "max_width": null,
            "order": null,
            "_view_module_version": "1.2.0",
            "grid_template_areas": null,
            "object_position": null,
            "object_fit": null,
            "grid_auto_columns": null,
            "margin": null,
            "display": null,
            "left": null
          }
        },
        "cf03ea48646f425fb104b62d54fc4ab3": {
          "model_module": "@jupyter-widgets/base",
          "model_name": "LayoutModel",
          "state": {
            "_view_name": "LayoutView",
            "grid_template_rows": null,
            "right": null,
            "justify_content": null,
            "_view_module": "@jupyter-widgets/base",
            "overflow": null,
            "_model_module_version": "1.2.0",
            "_view_count": null,
            "flex_flow": null,
            "width": "150px",
            "min_width": null,
            "border": null,
            "align_items": null,
            "bottom": null,
            "_model_module": "@jupyter-widgets/base",
            "top": null,
            "grid_column": null,
            "overflow_y": null,
            "overflow_x": null,
            "grid_auto_flow": null,
            "grid_area": null,
            "grid_template_columns": null,
            "flex": null,
            "_model_name": "LayoutModel",
            "justify_items": null,
            "grid_row": null,
            "max_height": null,
            "align_content": null,
            "visibility": null,
            "align_self": null,
            "height": null,
            "min_height": null,
            "padding": null,
            "grid_auto_rows": null,
            "grid_gap": null,
            "max_width": null,
            "order": null,
            "_view_module_version": "1.2.0",
            "grid_template_areas": null,
            "object_position": null,
            "object_fit": null,
            "grid_auto_columns": null,
            "margin": null,
            "display": null,
            "left": null
          }
        },
        "115c3c47e5784c818f35f3f2b281b1a4": {
          "model_module": "@jupyter-widgets/controls",
          "model_name": "ButtonStyleModel",
          "state": {
            "_view_name": "StyleView",
            "_model_name": "ButtonStyleModel",
            "_view_module": "@jupyter-widgets/base",
            "_model_module_version": "1.5.0",
            "_view_count": null,
            "button_color": null,
            "font_weight": "",
            "_view_module_version": "1.2.0",
            "_model_module": "@jupyter-widgets/controls"
          }
        },
        "69e63dab59324761bb8b87a5742de3c7": {
          "model_module": "@jupyter-widgets/base",
          "model_name": "LayoutModel",
          "state": {
            "_view_name": "LayoutView",
            "grid_template_rows": null,
            "right": null,
            "justify_content": null,
            "_view_module": "@jupyter-widgets/base",
            "overflow": null,
            "_model_module_version": "1.2.0",
            "_view_count": null,
            "flex_flow": null,
            "width": null,
            "min_width": null,
            "border": null,
            "align_items": null,
            "bottom": null,
            "_model_module": "@jupyter-widgets/base",
            "top": null,
            "grid_column": null,
            "overflow_y": null,
            "overflow_x": null,
            "grid_auto_flow": null,
            "grid_area": null,
            "grid_template_columns": null,
            "flex": null,
            "_model_name": "LayoutModel",
            "justify_items": null,
            "grid_row": null,
            "max_height": null,
            "align_content": null,
            "visibility": null,
            "align_self": null,
            "height": null,
            "min_height": null,
            "padding": null,
            "grid_auto_rows": null,
            "grid_gap": null,
            "max_width": null,
            "order": null,
            "_view_module_version": "1.2.0",
            "grid_template_areas": null,
            "object_position": null,
            "object_fit": null,
            "grid_auto_columns": null,
            "margin": null,
            "display": null,
            "left": null
          }
        },
        "41059ea8e4a244fd8fde2595e8463088": {
          "model_module": "@jupyter-widgets/base",
          "model_name": "LayoutModel",
          "state": {
            "_view_name": "LayoutView",
            "grid_template_rows": null,
            "right": null,
            "justify_content": null,
            "_view_module": "@jupyter-widgets/base",
            "overflow": null,
            "_model_module_version": "1.2.0",
            "_view_count": null,
            "flex_flow": null,
            "width": "150px",
            "min_width": null,
            "border": null,
            "align_items": null,
            "bottom": null,
            "_model_module": "@jupyter-widgets/base",
            "top": null,
            "grid_column": null,
            "overflow_y": null,
            "overflow_x": null,
            "grid_auto_flow": null,
            "grid_area": null,
            "grid_template_columns": null,
            "flex": null,
            "_model_name": "LayoutModel",
            "justify_items": null,
            "grid_row": null,
            "max_height": null,
            "align_content": null,
            "visibility": null,
            "align_self": null,
            "height": null,
            "min_height": null,
            "padding": null,
            "grid_auto_rows": null,
            "grid_gap": null,
            "max_width": null,
            "order": null,
            "_view_module_version": "1.2.0",
            "grid_template_areas": null,
            "object_position": null,
            "object_fit": null,
            "grid_auto_columns": null,
            "margin": null,
            "display": null,
            "left": null
          }
        },
        "7bb29cb97e164e659576d3a207f6dc4c": {
          "model_module": "@jupyter-widgets/controls",
          "model_name": "ButtonStyleModel",
          "state": {
            "_view_name": "StyleView",
            "_model_name": "ButtonStyleModel",
            "_view_module": "@jupyter-widgets/base",
            "_model_module_version": "1.5.0",
            "_view_count": null,
            "button_color": null,
            "font_weight": "",
            "_view_module_version": "1.2.0",
            "_model_module": "@jupyter-widgets/controls"
          }
        },
        "c54241b454974883816ca3028d0a0454": {
          "model_module": "@jupyter-widgets/base",
          "model_name": "LayoutModel",
          "state": {
            "_view_name": "LayoutView",
            "grid_template_rows": null,
            "right": null,
            "justify_content": null,
            "_view_module": "@jupyter-widgets/base",
            "overflow": null,
            "_model_module_version": "1.2.0",
            "_view_count": null,
            "flex_flow": null,
            "width": null,
            "min_width": null,
            "border": null,
            "align_items": null,
            "bottom": null,
            "_model_module": "@jupyter-widgets/base",
            "top": null,
            "grid_column": null,
            "overflow_y": null,
            "overflow_x": null,
            "grid_auto_flow": null,
            "grid_area": null,
            "grid_template_columns": null,
            "flex": null,
            "_model_name": "LayoutModel",
            "justify_items": null,
            "grid_row": null,
            "max_height": null,
            "align_content": null,
            "visibility": null,
            "align_self": null,
            "height": null,
            "min_height": null,
            "padding": null,
            "grid_auto_rows": null,
            "grid_gap": null,
            "max_width": null,
            "order": null,
            "_view_module_version": "1.2.0",
            "grid_template_areas": null,
            "object_position": null,
            "object_fit": null,
            "grid_auto_columns": null,
            "margin": null,
            "display": null,
            "left": null
          }
        },
        "01ac1aced1984cd98894c50faf823e15": {
          "model_module": "@jupyter-widgets/base",
          "model_name": "LayoutModel",
          "state": {
            "_view_name": "LayoutView",
            "grid_template_rows": null,
            "right": null,
            "justify_content": null,
            "_view_module": "@jupyter-widgets/base",
            "overflow": null,
            "_model_module_version": "1.2.0",
            "_view_count": null,
            "flex_flow": null,
            "width": "150px",
            "min_width": null,
            "border": null,
            "align_items": null,
            "bottom": null,
            "_model_module": "@jupyter-widgets/base",
            "top": null,
            "grid_column": null,
            "overflow_y": null,
            "overflow_x": null,
            "grid_auto_flow": null,
            "grid_area": null,
            "grid_template_columns": null,
            "flex": null,
            "_model_name": "LayoutModel",
            "justify_items": null,
            "grid_row": null,
            "max_height": null,
            "align_content": null,
            "visibility": null,
            "align_self": null,
            "height": null,
            "min_height": null,
            "padding": null,
            "grid_auto_rows": null,
            "grid_gap": null,
            "max_width": null,
            "order": null,
            "_view_module_version": "1.2.0",
            "grid_template_areas": null,
            "object_position": null,
            "object_fit": null,
            "grid_auto_columns": null,
            "margin": null,
            "display": null,
            "left": null
          }
        },
        "f3047bc152c84352824e2338f6e9eba3": {
          "model_module": "@jupyter-widgets/controls",
          "model_name": "ButtonStyleModel",
          "state": {
            "_view_name": "StyleView",
            "_model_name": "ButtonStyleModel",
            "_view_module": "@jupyter-widgets/base",
            "_model_module_version": "1.5.0",
            "_view_count": null,
            "button_color": null,
            "font_weight": "",
            "_view_module_version": "1.2.0",
            "_model_module": "@jupyter-widgets/controls"
          }
        },
        "058084ee43e04a6b97bf9ed020f7f02e": {
          "model_module": "@jupyter-widgets/base",
          "model_name": "LayoutModel",
          "state": {
            "_view_name": "LayoutView",
            "grid_template_rows": null,
            "right": null,
            "justify_content": null,
            "_view_module": "@jupyter-widgets/base",
            "overflow": null,
            "_model_module_version": "1.2.0",
            "_view_count": null,
            "flex_flow": null,
            "width": null,
            "min_width": null,
            "border": null,
            "align_items": null,
            "bottom": null,
            "_model_module": "@jupyter-widgets/base",
            "top": null,
            "grid_column": null,
            "overflow_y": null,
            "overflow_x": null,
            "grid_auto_flow": null,
            "grid_area": null,
            "grid_template_columns": null,
            "flex": null,
            "_model_name": "LayoutModel",
            "justify_items": null,
            "grid_row": null,
            "max_height": null,
            "align_content": null,
            "visibility": null,
            "align_self": null,
            "height": null,
            "min_height": null,
            "padding": null,
            "grid_auto_rows": null,
            "grid_gap": null,
            "max_width": null,
            "order": null,
            "_view_module_version": "1.2.0",
            "grid_template_areas": null,
            "object_position": null,
            "object_fit": null,
            "grid_auto_columns": null,
            "margin": null,
            "display": null,
            "left": null
          }
        },
        "8b6baaa9fe5c40f9ae7e6ab6bdee65db": {
          "model_module": "@jupyter-widgets/controls",
          "model_name": "FileUploadModel",
          "state": {
            "_view_name": "FileUploadView",
            "_counter": 2,
            "style": "IPY_MODEL_f18fc1baf4ab42ceaa4a8a20614df3d9",
            "_dom_classes": [],
            "description": "Upload",
            "multiple": false,
            "_model_name": "FileUploadModel",
            "data": [
              null
            ],
            "button_style": "",
            "_view_module": "@jupyter-widgets/controls",
            "_model_module_version": "1.5.0",
            "accept": "",
            "_view_count": null,
            "disabled": false,
            "_view_module_version": "1.5.0",
            "error": "",
            "description_tooltip": null,
            "metadata": [
              {
                "name": "profo.jpg",
                "type": "image/jpeg",
                "size": 18424,
                "lastModified": 1614872718127
              }
            ],
            "_model_module": "@jupyter-widgets/controls",
            "layout": "IPY_MODEL_cc48bc4c7e20457d8c3be535bccfc7ee",
            "icon": "upload"
          }
        },
        "f18fc1baf4ab42ceaa4a8a20614df3d9": {
          "model_module": "@jupyter-widgets/controls",
          "model_name": "ButtonStyleModel",
          "state": {
            "_view_name": "StyleView",
            "_model_name": "ButtonStyleModel",
            "_view_module": "@jupyter-widgets/base",
            "_model_module_version": "1.5.0",
            "_view_count": null,
            "button_color": null,
            "font_weight": "",
            "_view_module_version": "1.2.0",
            "_model_module": "@jupyter-widgets/controls"
          }
        },
        "cc48bc4c7e20457d8c3be535bccfc7ee": {
          "model_module": "@jupyter-widgets/base",
          "model_name": "LayoutModel",
          "state": {
            "_view_name": "LayoutView",
            "grid_template_rows": null,
            "right": null,
            "justify_content": null,
            "_view_module": "@jupyter-widgets/base",
            "overflow": null,
            "_model_module_version": "1.2.0",
            "_view_count": null,
            "flex_flow": null,
            "width": null,
            "min_width": null,
            "border": null,
            "align_items": null,
            "bottom": null,
            "_model_module": "@jupyter-widgets/base",
            "top": null,
            "grid_column": null,
            "overflow_y": null,
            "overflow_x": null,
            "grid_auto_flow": null,
            "grid_area": null,
            "grid_template_columns": null,
            "flex": null,
            "_model_name": "LayoutModel",
            "justify_items": null,
            "grid_row": null,
            "max_height": null,
            "align_content": null,
            "visibility": null,
            "align_self": null,
            "height": null,
            "min_height": null,
            "padding": null,
            "grid_auto_rows": null,
            "grid_gap": null,
            "max_width": null,
            "order": null,
            "_view_module_version": "1.2.0",
            "grid_template_areas": null,
            "object_position": null,
            "object_fit": null,
            "grid_auto_columns": null,
            "margin": null,
            "display": null,
            "left": null
          }
        },
        "4c73763fcce44e49b32ccd377f501e58": {
          "model_module": "@jupyter-widgets/controls",
          "model_name": "ButtonModel",
          "state": {
            "_view_name": "ButtonView",
            "style": "IPY_MODEL_198c60c4a6384a6c976414997b750841",
            "_dom_classes": [],
            "description": "Are they Ginger",
            "_model_name": "ButtonModel",
            "button_style": "",
            "_view_module": "@jupyter-widgets/controls",
            "_model_module_version": "1.5.0",
            "tooltip": "",
            "_view_count": null,
            "disabled": false,
            "_view_module_version": "1.5.0",
            "layout": "IPY_MODEL_4a0150ca7b984062b4641993f698aa35",
            "_model_module": "@jupyter-widgets/controls",
            "icon": ""
          }
        },
        "198c60c4a6384a6c976414997b750841": {
          "model_module": "@jupyter-widgets/controls",
          "model_name": "ButtonStyleModel",
          "state": {
            "_view_name": "StyleView",
            "_model_name": "ButtonStyleModel",
            "_view_module": "@jupyter-widgets/base",
            "_model_module_version": "1.5.0",
            "_view_count": null,
            "button_color": null,
            "font_weight": "",
            "_view_module_version": "1.2.0",
            "_model_module": "@jupyter-widgets/controls"
          }
        },
        "4a0150ca7b984062b4641993f698aa35": {
          "model_module": "@jupyter-widgets/base",
          "model_name": "LayoutModel",
          "state": {
            "_view_name": "LayoutView",
            "grid_template_rows": null,
            "right": null,
            "justify_content": null,
            "_view_module": "@jupyter-widgets/base",
            "overflow": null,
            "_model_module_version": "1.2.0",
            "_view_count": null,
            "flex_flow": null,
            "width": null,
            "min_width": null,
            "border": null,
            "align_items": null,
            "bottom": null,
            "_model_module": "@jupyter-widgets/base",
            "top": null,
            "grid_column": null,
            "overflow_y": null,
            "overflow_x": null,
            "grid_auto_flow": null,
            "grid_area": null,
            "grid_template_columns": null,
            "flex": null,
            "_model_name": "LayoutModel",
            "justify_items": null,
            "grid_row": null,
            "max_height": null,
            "align_content": null,
            "visibility": null,
            "align_self": null,
            "height": null,
            "min_height": null,
            "padding": null,
            "grid_auto_rows": null,
            "grid_gap": null,
            "max_width": null,
            "order": null,
            "_view_module_version": "1.2.0",
            "grid_template_areas": null,
            "object_position": null,
            "object_fit": null,
            "grid_auto_columns": null,
            "margin": null,
            "display": null,
            "left": null
          }
        },
        "678245ed128545149a9bc7a8f2b81d1b": {
          "model_module": "@jupyter-widgets/output",
          "model_name": "OutputModel",
          "state": {
            "_view_name": "OutputView",
            "msg_id": "",
            "_dom_classes": [],
            "_model_name": "OutputModel",
            "outputs": [
              {
                "output_type": "display_data",
                "metadata": {
                  "tags": []
                },
                "image/png": "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\n",
                "text/plain": "<PIL.Image.Image image mode=RGB size=85x128 at 0x7F496AAA7790>"
              }
            ],
            "_view_module": "@jupyter-widgets/output",
            "_model_module_version": "1.0.0",
            "_view_count": null,
            "_view_module_version": "1.0.0",
            "layout": "IPY_MODEL_9f54dbe5d33943be98731c5928e6f9e4",
            "_model_module": "@jupyter-widgets/output"
          }
        },
        "9f54dbe5d33943be98731c5928e6f9e4": {
          "model_module": "@jupyter-widgets/base",
          "model_name": "LayoutModel",
          "state": {
            "_view_name": "LayoutView",
            "grid_template_rows": null,
            "right": null,
            "justify_content": null,
            "_view_module": "@jupyter-widgets/base",
            "overflow": null,
            "_model_module_version": "1.2.0",
            "_view_count": null,
            "flex_flow": null,
            "width": null,
            "min_width": null,
            "border": null,
            "align_items": null,
            "bottom": null,
            "_model_module": "@jupyter-widgets/base",
            "top": null,
            "grid_column": null,
            "overflow_y": null,
            "overflow_x": null,
            "grid_auto_flow": null,
            "grid_area": null,
            "grid_template_columns": null,
            "flex": null,
            "_model_name": "LayoutModel",
            "justify_items": null,
            "grid_row": null,
            "max_height": null,
            "align_content": null,
            "visibility": null,
            "align_self": null,
            "height": null,
            "min_height": null,
            "padding": null,
            "grid_auto_rows": null,
            "grid_gap": null,
            "max_width": null,
            "order": null,
            "_view_module_version": "1.2.0",
            "grid_template_areas": null,
            "object_position": null,
            "object_fit": null,
            "grid_auto_columns": null,
            "margin": null,
            "display": null,
            "left": null
          }
        },
        "5921764dcc0e4409a0ae450b98037afd": {
          "model_module": "@jupyter-widgets/controls",
          "model_name": "LabelModel",
          "state": {
            "_view_name": "LabelView",
            "style": "IPY_MODEL_e33fbd2e03704e28b0c0de3502ddeafc",
            "_dom_classes": [],
            "description": "",
            "_model_name": "LabelModel",
            "placeholder": "​",
            "_view_module": "@jupyter-widgets/controls",
            "_model_module_version": "1.5.0",
            "value": "Prediction: Ginger; Probability: 0.9995",
            "_view_count": null,
            "_view_module_version": "1.5.0",
            "description_tooltip": null,
            "_model_module": "@jupyter-widgets/controls",
            "layout": "IPY_MODEL_6f1f71bcdb3a4e3b85d71305535df6d0"
          }
        },
        "e33fbd2e03704e28b0c0de3502ddeafc": {
          "model_module": "@jupyter-widgets/controls",
          "model_name": "DescriptionStyleModel",
          "state": {
            "_view_name": "StyleView",
            "_model_name": "DescriptionStyleModel",
            "description_width": "",
            "_view_module": "@jupyter-widgets/base",
            "_model_module_version": "1.5.0",
            "_view_count": null,
            "_view_module_version": "1.2.0",
            "_model_module": "@jupyter-widgets/controls"
          }
        },
        "6f1f71bcdb3a4e3b85d71305535df6d0": {
          "model_module": "@jupyter-widgets/base",
          "model_name": "LayoutModel",
          "state": {
            "_view_name": "LayoutView",
            "grid_template_rows": null,
            "right": null,
            "justify_content": null,
            "_view_module": "@jupyter-widgets/base",
            "overflow": null,
            "_model_module_version": "1.2.0",
            "_view_count": null,
            "flex_flow": null,
            "width": null,
            "min_width": null,
            "border": null,
            "align_items": null,
            "bottom": null,
            "_model_module": "@jupyter-widgets/base",
            "top": null,
            "grid_column": null,
            "overflow_y": null,
            "overflow_x": null,
            "grid_auto_flow": null,
            "grid_area": null,
            "grid_template_columns": null,
            "flex": null,
            "_model_name": "LayoutModel",
            "justify_items": null,
            "grid_row": null,
            "max_height": null,
            "align_content": null,
            "visibility": null,
            "align_self": null,
            "height": null,
            "min_height": null,
            "padding": null,
            "grid_auto_rows": null,
            "grid_gap": null,
            "max_width": null,
            "order": null,
            "_view_module_version": "1.2.0",
            "grid_template_areas": null,
            "object_position": null,
            "object_fit": null,
            "grid_auto_columns": null,
            "margin": null,
            "display": null,
            "left": null
          }
        },
        "9699da1a0f5b4db4911a11117ddfafb8": {
          "model_module": "@jupyter-widgets/controls",
          "model_name": "VBoxModel",
          "state": {
            "_view_name": "VBoxView",
            "_dom_classes": [],
            "_model_name": "VBoxModel",
            "_view_module": "@jupyter-widgets/controls",
            "_model_module_version": "1.5.0",
            "_view_count": null,
            "_view_module_version": "1.5.0",
            "box_style": "",
            "layout": "IPY_MODEL_ec9624741541470fafddb81c808bc3f3",
            "_model_module": "@jupyter-widgets/controls",
            "children": [
              "IPY_MODEL_608ccd8832c1461bacc61a4a81040267",
              "IPY_MODEL_8b6baaa9fe5c40f9ae7e6ab6bdee65db",
              "IPY_MODEL_4c73763fcce44e49b32ccd377f501e58",
              "IPY_MODEL_678245ed128545149a9bc7a8f2b81d1b",
              "IPY_MODEL_5921764dcc0e4409a0ae450b98037afd"
            ]
          }
        },
        "ec9624741541470fafddb81c808bc3f3": {
          "model_module": "@jupyter-widgets/base",
          "model_name": "LayoutModel",
          "state": {
            "_view_name": "LayoutView",
            "grid_template_rows": null,
            "right": null,
            "justify_content": null,
            "_view_module": "@jupyter-widgets/base",
            "overflow": null,
            "_model_module_version": "1.2.0",
            "_view_count": null,
            "flex_flow": null,
            "width": null,
            "min_width": null,
            "border": null,
            "align_items": null,
            "bottom": null,
            "_model_module": "@jupyter-widgets/base",
            "top": null,
            "grid_column": null,
            "overflow_y": null,
            "overflow_x": null,
            "grid_auto_flow": null,
            "grid_area": null,
            "grid_template_columns": null,
            "flex": null,
            "_model_name": "LayoutModel",
            "justify_items": null,
            "grid_row": null,
            "max_height": null,
            "align_content": null,
            "visibility": null,
            "align_self": null,
            "height": null,
            "min_height": null,
            "padding": null,
            "grid_auto_rows": null,
            "grid_gap": null,
            "max_width": null,
            "order": null,
            "_view_module_version": "1.2.0",
            "grid_template_areas": null,
            "object_position": null,
            "object_fit": null,
            "grid_auto_columns": null,
            "margin": null,
            "display": null,
            "left": null
          }
        },
        "608ccd8832c1461bacc61a4a81040267": {
          "model_module": "@jupyter-widgets/controls",
          "model_name": "LabelModel",
          "state": {
            "_view_name": "LabelView",
            "style": "IPY_MODEL_2b7db459560c4d78b50d295187f48ab8",
            "_dom_classes": [],
            "description": "",
            "_model_name": "LabelModel",
            "placeholder": "​",
            "_view_module": "@jupyter-widgets/controls",
            "_model_module_version": "1.5.0",
            "value": "Upload a picture of someone to see if they are ginger!",
            "_view_count": null,
            "_view_module_version": "1.5.0",
            "description_tooltip": null,
            "_model_module": "@jupyter-widgets/controls",
            "layout": "IPY_MODEL_86e39c42e7af4edca8ee61735a40049b"
          }
        },
        "2b7db459560c4d78b50d295187f48ab8": {
          "model_module": "@jupyter-widgets/controls",
          "model_name": "DescriptionStyleModel",
          "state": {
            "_view_name": "StyleView",
            "_model_name": "DescriptionStyleModel",
            "description_width": "",
            "_view_module": "@jupyter-widgets/base",
            "_model_module_version": "1.5.0",
            "_view_count": null,
            "_view_module_version": "1.2.0",
            "_model_module": "@jupyter-widgets/controls"
          }
        },
        "86e39c42e7af4edca8ee61735a40049b": {
          "model_module": "@jupyter-widgets/base",
          "model_name": "LayoutModel",
          "state": {
            "_view_name": "LayoutView",
            "grid_template_rows": null,
            "right": null,
            "justify_content": null,
            "_view_module": "@jupyter-widgets/base",
            "overflow": null,
            "_model_module_version": "1.2.0",
            "_view_count": null,
            "flex_flow": null,
            "width": null,
            "min_width": null,
            "border": null,
            "align_items": null,
            "bottom": null,
            "_model_module": "@jupyter-widgets/base",
            "top": null,
            "grid_column": null,
            "overflow_y": null,
            "overflow_x": null,
            "grid_auto_flow": null,
            "grid_area": null,
            "grid_template_columns": null,
            "flex": null,
            "_model_name": "LayoutModel",
            "justify_items": null,
            "grid_row": null,
            "max_height": null,
            "align_content": null,
            "visibility": null,
            "align_self": null,
            "height": null,
            "min_height": null,
            "padding": null,
            "grid_auto_rows": null,
            "grid_gap": null,
            "max_width": null,
            "order": null,
            "_view_module_version": "1.2.0",
            "grid_template_areas": null,
            "object_position": null,
            "object_fit": null,
            "grid_auto_columns": null,
            "margin": null,
            "display": null,
            "left": null
          }
        }
      }
    }
  },
  "cells": [
    {
      "cell_type": "code",
      "metadata": {
        "id": "OtdgEOJy1NHF"
      },
      "source": [
        "#hide\n",
        "!pip install -Uqq fastbook\n",
        "import fastbook\n",
        "fastbook.setup_book()"
      ],
      "execution_count": null,
      "outputs": []
    },
    {
      "cell_type": "code",
      "metadata": {
        "id": "6uKbHFoj1NHS"
      },
      "source": [
        "#hide\n",
        "from fastbook import *\n",
        "from fastai.vision.widgets import *"
      ],
      "execution_count": null,
      "outputs": []
    },
    {
      "cell_type": "code",
      "metadata": {
        "id": "dCWukA752ECX"
      },
      "source": [
        "!pip install -q jmd_imagescraper \n",
        "from pathlib import Path \n",
        "from jmd_imagescraper.core import * \n",
        "from jmd_imagescraper.imagecleaner import * "
      ],
      "execution_count": null,
      "outputs": []
    },
    {
      "cell_type": "code",
      "metadata": {
        "id": "B1CvO0112Fo9",
        "colab": {
          "base_uri": "https://localhost:8080/",
          "height": 918,
          "referenced_widgets": [
            "6afa86731fd04be1a5927f7f96792ab7",
            "30543c199847482097e3ae2fbf312bac",
            "caa8f4cb7efa4d248ba7cf80adae4f1a",
            "69f960871868439bba867923d3497b86",
            "b5f1d3aae24b4d5b9e29763e41c30fad",
            "b90a13ea514e4f6391ee35ef3ca54976",
            "38e5b85c9912429398b275a73ea83a2a",
            "3e21820fc0a74ddda07497ab55f21656",
            "feb5a056797c46edaffd780c4a84630a",
            "496ba7ab688047b6934140900a6e4bcd",
            "f864d66441494dd1a12bbd1e8ef7317a",
            "2fd2275d8b5b467db7416577a1355350",
            "e085e600057a4dccbac40ffbcb163fe8",
            "610482d61ab942d2a569ce7834802c72",
            "bab54e4d4abd4b57867deff074e33c67",
            "203770ab1eb8429398951c9caffc9c27",
            "9e888b5892054dcebc1ddcc5b0aa50bd",
            "b3d338e6dccc4a3484ad8dfdf0bc2f6d",
            "89236ad4eaa64150b429ceb5f06421fc",
            "4abdd2f9abd143f0ac586cbc5d31f0ca",
            "48de76edc044432d9e4fe9a789161be4",
            "ec70f90901ff4fc8aa70a7786a9ed0ba",
            "02389c87eaa24ac1b4a9d7c8dd346ab1",
            "da66488792f647dea672ac4002b53e5f",
            "805daeae0a6242f4822df6c60c8a58fa",
            "e89fe3a1a4c342689e2c0a075a0352f2",
            "4259f3e35c7f4baaa3561f94fceabd61",
            "2a30a53c9e6345179c07c500debec1de",
            "14c420f242814686955bbba368d3bd91",
            "86cd5716b21f4bc8b3c5f2a99d17906c",
            "a5eb74ef082e47d381dbb5db3a1dbb9f",
            "d798b345b80e45e280ba5d79ebd9d964",
            "d69d17dceb1041558b57a8093350ecb9",
            "2b574525a5884b2b80a2beca36c486d1",
            "b6ef465aeb6b4b1fbbd28182c3bcfaed",
            "d33763026383489cabf36c209cc3a185",
            "f9493cd6905d4a709453532eb19a6d10",
            "2ec20625d4de42e6b88bd5c80c8c39d6",
            "e135198ea81e4be5830f06e925583945",
            "c4b6173542fe4025b1e03852688c4c9c",
            "b8ebce2da1984bddb0340a882d100a31",
            "47879702175247c6916bdb7d56d1dfca",
            "ad5b792f18a84b06b58e7ef859a57349",
            "2bc6c774379c424aa7a3e0c690eb3e45",
            "c523df3e8aa54d3abf39e01ff6c32569",
            "46140b10bba040c7a88f758fa1339cb0",
            "661ab51ca1374b60a56a8364c7ccdd7c",
            "24725ae8736e43769b8928b166e9ebab",
            "424f38980d2f4d5fb6a4283167c2f028",
            "31298a045f1e403fabe1e1f79b61881f",
            "7c94736c996a4a4dbf4f8ba7772de07e",
            "5e959c430b13447d81a7a2bea52b7966",
            "95b9326acf044497abd088a96ac84b99",
            "db10d8b1913047858a18fa298221a537",
            "e3c1171807b1408eba17d7ca2b412408",
            "b90955afaac04607a1f2dff5c9b0c6a2",
            "140707bfc6664a77bdaa2f0704e424d8",
            "b2dd5677763849f2912837bee8b33311",
            "2c73ca9042d84b8280375db3e04e613c",
            "11fe9a9228f442c38a6f83b5b679ac2c",
            "e151818c9c334c6da49ef9be232fa195",
            "6c2a58ea366244bab3aec79eab3daf46",
            "4518444840a449ed97630afe869155ac",
            "6684ab58f85d4913a997eb7dd4b5fff8",
            "404875e1b166461d8f2ca944b50520fc",
            "a2074b8fe2134649a9f228354d9efd1d",
            "0e3818646feb4dd9b6a10d0b6fb84784",
            "7fb46de04ac640d998380ecda5ebff82",
            "da358c46529f4ebaa71f97abbf7eabb8",
            "959c54c629c44b86b09af13360f4b5d5",
            "4d8f820319e4476c98c75ca6ba8a3120",
            "602e9568a3084609898640432dbb2bea",
            "dbef24508bfc4bffba7d52c7698bd40d",
            "2dd4e25e3fe046d1a6c354c750234a0f",
            "28d4f6e272b74169aa7053b27524547a",
            "cf03ea48646f425fb104b62d54fc4ab3",
            "115c3c47e5784c818f35f3f2b281b1a4",
            "69e63dab59324761bb8b87a5742de3c7",
            "41059ea8e4a244fd8fde2595e8463088",
            "7bb29cb97e164e659576d3a207f6dc4c",
            "c54241b454974883816ca3028d0a0454",
            "01ac1aced1984cd98894c50faf823e15",
            "f3047bc152c84352824e2338f6e9eba3",
            "058084ee43e04a6b97bf9ed020f7f02e"
          ]
        },
        "outputId": "9a8c32bd-a447-49ee-d815-2d581017206e"
      },
      "source": [
        "root = Path().cwd()/\"Hair Colour\" \n",
        "duckduckgo_search(root, \"Ginger\", \"ginger hair female\", max_results=150) \n",
        "duckduckgo_search(root, \"Ginger\", \"ginger hair male\", max_results=150)\n",
        "duckduckgo_search(root, \"Not Ginger\", \"dark hair female\", max_results=75) \n",
        "duckduckgo_search(root, \"Not Ginger\", \"dark hair male\", max_results=75)\n",
        "duckduckgo_search(root, \"Not Ginger\", \"blond hair female\", max_results=75) \n",
        "duckduckgo_search(root, \"Not Ginger\", \"blond hair male\", max_results=75)\n",
        "\n",
        "\n",
        "display_image_cleaner(root)"
      ],
      "execution_count": null,
      "outputs": [
        {
          "output_type": "stream",
          "text": [
            "Duckduckgo search: ginger hair female\n",
            "Downloading results into /content/Hair Colour/Ginger\n"
          ],
          "name": "stdout"
        },
        {
          "output_type": "display_data",
          "data": {
            "text/html": [
              "\n",
              "    <div>\n",
              "        <style>\n",
              "            /* Turns off some styling */\n",
              "            progress {\n",
              "                /* gets rid of default border in Firefox and Opera. */\n",
              "                border: none;\n",
              "                /* Needs to be in here for Safari polyfill so background images work as expected. */\n",
              "                background-size: auto;\n",
              "            }\n",
              "            .progress-bar-interrupted, .progress-bar-interrupted::-webkit-progress-bar {\n",
              "                background: #F44336;\n",
              "            }\n",
              "        </style>\n",
              "      <progress value='150' class='' max='150' style='width:300px; height:20px; vertical-align: middle;'></progress>\n",
              "      100.00% [150/150 00:19<00:00 Images downloaded]\n",
              "    </div>\n",
              "    "
            ],
            "text/plain": [
              "<IPython.core.display.HTML object>"
            ]
          },
          "metadata": {
            "tags": []
          }
        },
        {
          "output_type": "stream",
          "text": [
            "Duckduckgo search: ginger hair male\n",
            "Downloading results into /content/Hair Colour/Ginger\n"
          ],
          "name": "stdout"
        },
        {
          "output_type": "display_data",
          "data": {
            "text/html": [
              "\n",
              "    <div>\n",
              "        <style>\n",
              "            /* Turns off some styling */\n",
              "            progress {\n",
              "                /* gets rid of default border in Firefox and Opera. */\n",
              "                border: none;\n",
              "                /* Needs to be in here for Safari polyfill so background images work as expected. */\n",
              "                background-size: auto;\n",
              "            }\n",
              "            .progress-bar-interrupted, .progress-bar-interrupted::-webkit-progress-bar {\n",
              "                background: #F44336;\n",
              "            }\n",
              "        </style>\n",
              "      <progress value='150' class='' max='150' style='width:300px; height:20px; vertical-align: middle;'></progress>\n",
              "      100.00% [150/150 00:17<00:00 Images downloaded]\n",
              "    </div>\n",
              "    "
            ],
            "text/plain": [
              "<IPython.core.display.HTML object>"
            ]
          },
          "metadata": {
            "tags": []
          }
        },
        {
          "output_type": "stream",
          "text": [
            "Exception occured while retrieving https://tse3.mm.bing.net/th?id=OIP.pwUQ2xkwpJvAMJsPvEIImgHaJP&pid=Api\n",
            "Duckduckgo search: dark hair female\n",
            "Downloading results into /content/Hair Colour/Not Ginger\n"
          ],
          "name": "stdout"
        },
        {
          "output_type": "display_data",
          "data": {
            "text/html": [
              "\n",
              "    <div>\n",
              "        <style>\n",
              "            /* Turns off some styling */\n",
              "            progress {\n",
              "                /* gets rid of default border in Firefox and Opera. */\n",
              "                border: none;\n",
              "                /* Needs to be in here for Safari polyfill so background images work as expected. */\n",
              "                background-size: auto;\n",
              "            }\n",
              "            .progress-bar-interrupted, .progress-bar-interrupted::-webkit-progress-bar {\n",
              "                background: #F44336;\n",
              "            }\n",
              "        </style>\n",
              "      <progress value='75' class='' max='75' style='width:300px; height:20px; vertical-align: middle;'></progress>\n",
              "      100.00% [75/75 00:07<00:00 Images downloaded]\n",
              "    </div>\n",
              "    "
            ],
            "text/plain": [
              "<IPython.core.display.HTML object>"
            ]
          },
          "metadata": {
            "tags": []
          }
        },
        {
          "output_type": "stream",
          "text": [
            "Duckduckgo search: dark hair male\n",
            "Downloading results into /content/Hair Colour/Not Ginger\n"
          ],
          "name": "stdout"
        },
        {
          "output_type": "display_data",
          "data": {
            "text/html": [
              "\n",
              "    <div>\n",
              "        <style>\n",
              "            /* Turns off some styling */\n",
              "            progress {\n",
              "                /* gets rid of default border in Firefox and Opera. */\n",
              "                border: none;\n",
              "                /* Needs to be in here for Safari polyfill so background images work as expected. */\n",
              "                background-size: auto;\n",
              "            }\n",
              "            .progress-bar-interrupted, .progress-bar-interrupted::-webkit-progress-bar {\n",
              "                background: #F44336;\n",
              "            }\n",
              "        </style>\n",
              "      <progress value='75' class='' max='75' style='width:300px; height:20px; vertical-align: middle;'></progress>\n",
              "      100.00% [75/75 00:11<00:00 Images downloaded]\n",
              "    </div>\n",
              "    "
            ],
            "text/plain": [
              "<IPython.core.display.HTML object>"
            ]
          },
          "metadata": {
            "tags": []
          }
        },
        {
          "output_type": "stream",
          "text": [
            "Duckduckgo search: blond hair female\n",
            "Downloading results into /content/Hair Colour/Not Ginger\n"
          ],
          "name": "stdout"
        },
        {
          "output_type": "display_data",
          "data": {
            "text/html": [
              "\n",
              "    <div>\n",
              "        <style>\n",
              "            /* Turns off some styling */\n",
              "            progress {\n",
              "                /* gets rid of default border in Firefox and Opera. */\n",
              "                border: none;\n",
              "                /* Needs to be in here for Safari polyfill so background images work as expected. */\n",
              "                background-size: auto;\n",
              "            }\n",
              "            .progress-bar-interrupted, .progress-bar-interrupted::-webkit-progress-bar {\n",
              "                background: #F44336;\n",
              "            }\n",
              "        </style>\n",
              "      <progress value='75' class='' max='75' style='width:300px; height:20px; vertical-align: middle;'></progress>\n",
              "      100.00% [75/75 00:08<00:00 Images downloaded]\n",
              "    </div>\n",
              "    "
            ],
            "text/plain": [
              "<IPython.core.display.HTML object>"
            ]
          },
          "metadata": {
            "tags": []
          }
        },
        {
          "output_type": "stream",
          "text": [
            "Duckduckgo search: blond hair male\n",
            "Downloading results into /content/Hair Colour/Not Ginger\n"
          ],
          "name": "stdout"
        },
        {
          "output_type": "display_data",
          "data": {
            "text/html": [
              "\n",
              "    <div>\n",
              "        <style>\n",
              "            /* Turns off some styling */\n",
              "            progress {\n",
              "                /* gets rid of default border in Firefox and Opera. */\n",
              "                border: none;\n",
              "                /* Needs to be in here for Safari polyfill so background images work as expected. */\n",
              "                background-size: auto;\n",
              "            }\n",
              "            .progress-bar-interrupted, .progress-bar-interrupted::-webkit-progress-bar {\n",
              "                background: #F44336;\n",
              "            }\n",
              "        </style>\n",
              "      <progress value='75' class='' max='75' style='width:300px; height:20px; vertical-align: middle;'></progress>\n",
              "      100.00% [75/75 00:08<00:00 Images downloaded]\n",
              "    </div>\n",
              "    "
            ],
            "text/plain": [
              "<IPython.core.display.HTML object>"
            ]
          },
          "metadata": {
            "tags": []
          }
        },
        {
          "output_type": "display_data",
          "data": {
            "application/vnd.jupyter.widget-view+json": {
              "model_id": "6afa86731fd04be1a5927f7f96792ab7",
              "version_minor": 0,
              "version_major": 2
            },
            "text/plain": [
              "HBox(children=(Button(description='|<<', layout=Layout(width='60px'), style=ButtonStyle()), Button(description…"
            ]
          },
          "metadata": {
            "tags": []
          }
        },
        {
          "output_type": "display_data",
          "data": {
            "application/vnd.jupyter.widget-view+json": {
              "model_id": "da66488792f647dea672ac4002b53e5f",
              "version_minor": 0,
              "version_major": 2
            },
            "text/plain": [
              "HTML(value='<h2>No images left to display in this folder.</h2>', layout=Layout(visibility='hidden'))"
            ]
          },
          "metadata": {
            "tags": []
          }
        },
        {
          "output_type": "display_data",
          "data": {
            "application/vnd.jupyter.widget-view+json": {
              "model_id": "4259f3e35c7f4baaa3561f94fceabd61",
              "version_minor": 0,
              "version_major": 2
            },
            "text/plain": [
              "GridBox(children=(VBox(children=(Image(value=b'', layout=\"Layout(width='150px')\"), Button(description='Delete'…"
            ]
          },
          "metadata": {
            "tags": []
          }
        }
      ]
    },
    {
      "cell_type": "code",
      "metadata": {
        "id": "b66wZ3io2YWI"
      },
      "source": [
        ""
      ],
      "execution_count": null,
      "outputs": []
    },
    {
      "cell_type": "markdown",
      "metadata": {
        "id": "xfSp2_V22aGc"
      },
      "source": [
        "# Make a path"
      ]
    },
    {
      "cell_type": "code",
      "metadata": {
        "id": "QJQ08U7N2i8V"
      },
      "source": [
        "mypath = Path('Hair Colour')"
      ],
      "execution_count": null,
      "outputs": []
    },
    {
      "cell_type": "code",
      "metadata": {
        "id": "hrrsMthm22lI",
        "colab": {
          "base_uri": "https://localhost:8080/"
        },
        "outputId": "7e769412-6303-457f-fa3f-255b8f6adbe5"
      },
      "source": [
        "fns = get_image_files(mypath)\n",
        "fns"
      ],
      "execution_count": null,
      "outputs": [
        {
          "output_type": "execute_result",
          "data": {
            "text/plain": [
              "(#584) [Path('Hair Colour/Not Ginger/184_24f8b849.jpg'),Path('Hair Colour/Not Ginger/244_63166aaa.jpg'),Path('Hair Colour/Not Ginger/036_dee5ec59.jpg'),Path('Hair Colour/Not Ginger/044_25a0d1f0.jpg'),Path('Hair Colour/Not Ginger/170_884221d3.jpg'),Path('Hair Colour/Not Ginger/085_a87ca5c2.jpg'),Path('Hair Colour/Not Ginger/156_4f4e2fc4.jpg'),Path('Hair Colour/Not Ginger/193_bab94119.jpg'),Path('Hair Colour/Not Ginger/239_de82f6fd.jpg'),Path('Hair Colour/Not Ginger/023_e3260915.jpg')...]"
            ]
          },
          "metadata": {
            "tags": []
          },
          "execution_count": 31
        }
      ]
    },
    {
      "cell_type": "code",
      "metadata": {
        "id": "-69522Oh26hg",
        "colab": {
          "base_uri": "https://localhost:8080/"
        },
        "outputId": "860d8913-d1b0-428b-c12e-14f73201c4cc"
      },
      "source": [
        "failed = verify_images(fns)\n",
        "failed"
      ],
      "execution_count": null,
      "outputs": [
        {
          "output_type": "execute_result",
          "data": {
            "text/plain": [
              "(#0) []"
            ]
          },
          "metadata": {
            "tags": []
          },
          "execution_count": 13
        }
      ]
    },
    {
      "cell_type": "code",
      "metadata": {
        "id": "lO9m1hRL29uY"
      },
      "source": [
        "failed.map(Path.unlink);"
      ],
      "execution_count": null,
      "outputs": []
    },
    {
      "cell_type": "code",
      "metadata": {
        "id": "vhFWslPY3I9d"
      },
      "source": [
        ""
      ],
      "execution_count": null,
      "outputs": []
    },
    {
      "cell_type": "markdown",
      "metadata": {
        "id": "LjJDUBgZ3Kc6"
      },
      "source": [
        "#Load Data loader"
      ]
    },
    {
      "cell_type": "code",
      "metadata": {
        "id": "nyZqFUQO8rjO"
      },
      "source": [
        "haircolour = DataBlock(\n",
        "    blocks=(ImageBlock, CategoryBlock), \n",
        "    get_items=get_image_files, \n",
        "    splitter=RandomSplitter(valid_pct=0.2, seed=42),\n",
        "    get_y=parent_label,\n",
        "    item_tfms=Resize(128))"
      ],
      "execution_count": null,
      "outputs": []
    },
    {
      "cell_type": "code",
      "metadata": {
        "id": "SX3ZjZtT9Azg"
      },
      "source": [
        "mydls = haircolour.dataloaders(mypath)"
      ],
      "execution_count": null,
      "outputs": []
    },
    {
      "cell_type": "code",
      "metadata": {
        "id": "8mZxv5wu9FWr",
        "colab": {
          "base_uri": "https://localhost:8080/",
          "height": 193
        },
        "outputId": "d0800ad6-84aa-4193-a429-e8b52140597a"
      },
      "source": [
        "mydls.valid.show_batch(max_n=4, nrows=1)"
      ],
      "execution_count": null,
      "outputs": [
        {
          "output_type": "display_data",
          "data": {
            "image/png": "[encoded data removed]",
            "text/plain": [
              "<Figure size 864x216 with 4 Axes>"
            ]
          },
          "metadata": {
            "tags": [],
            "needs_background": "light"
          }
        }
      ]
    },
    {
      "cell_type": "code",
      "metadata": {
        "id": "0x0xVmhP9xqm"
      },
      "source": [
        ""
      ],
      "execution_count": null,
      "outputs": []
    },
    {
      "cell_type": "markdown",
      "metadata": {
        "id": "mLK8SzH99yfe"
      },
      "source": [
        "# Training"
      ]
    },
    {
      "cell_type": "code",
      "metadata": {
        "id": "yFcGEHq593Ri"
      },
      "source": [
        "haircolour = haircolour.new(\n",
        "    item_tfms=RandomResizedCrop(224, min_scale=0.5),\n",
        "    batch_tfms=aug_transforms())\n",
        "mydls = haircolour.dataloaders(mypath)"
      ],
      "execution_count": null,
      "outputs": []
    },
    {
      "cell_type": "code",
      "metadata": {
        "id": "wmPltcBp-KRr",
        "colab": {
          "base_uri": "https://localhost:8080/",
          "height": 236
        },
        "outputId": "b081e1f1-2ba0-4bc0-8f7a-8d19ae18eceb"
      },
      "source": [
        "mylearn = cnn_learner(mydls, resnet18, metrics=error_rate)\n",
        "mylearn.fine_tune(4)"
      ],
      "execution_count": null,
      "outputs": [
        {
          "output_type": "display_data",
          "data": {
            "text/html": [
              "<table border=\"1\" class=\"dataframe\">\n",
              "  <thead>\n",
              "    <tr style=\"text-align: left;\">\n",
              "      <th>epoch</th>\n",
              "      <th>train_loss</th>\n",
              "      <th>valid_loss</th>\n",
              "      <th>error_rate</th>\n",
              "      <th>time</th>\n",
              "    </tr>\n",
              "  </thead>\n",
              "  <tbody>\n",
              "    <tr>\n",
              "      <td>0</td>\n",
              "      <td>1.153327</td>\n",
              "      <td>1.292370</td>\n",
              "      <td>0.439655</td>\n",
              "      <td>00:06</td>\n",
              "    </tr>\n",
              "  </tbody>\n",
              "</table>"
            ],
            "text/plain": [
              "<IPython.core.display.HTML object>"
            ]
          },
          "metadata": {
            "tags": []
          }
        },
        {
          "output_type": "display_data",
          "data": {
            "text/html": [
              "<table border=\"1\" class=\"dataframe\">\n",
              "  <thead>\n",
              "    <tr style=\"text-align: left;\">\n",
              "      <th>epoch</th>\n",
              "      <th>train_loss</th>\n",
              "      <th>valid_loss</th>\n",
              "      <th>error_rate</th>\n",
              "      <th>time</th>\n",
              "    </tr>\n",
              "  </thead>\n",
              "  <tbody>\n",
              "    <tr>\n",
              "      <td>0</td>\n",
              "      <td>0.494333</td>\n",
              "      <td>0.732180</td>\n",
              "      <td>0.370690</td>\n",
              "      <td>00:07</td>\n",
              "    </tr>\n",
              "    <tr>\n",
              "      <td>1</td>\n",
              "      <td>0.406684</td>\n",
              "      <td>0.713582</td>\n",
              "      <td>0.310345</td>\n",
              "      <td>00:07</td>\n",
              "    </tr>\n",
              "    <tr>\n",
              "      <td>2</td>\n",
              "      <td>0.305026</td>\n",
              "      <td>0.935987</td>\n",
              "      <td>0.284483</td>\n",
              "      <td>00:07</td>\n",
              "    </tr>\n",
              "    <tr>\n",
              "      <td>3</td>\n",
              "      <td>0.261968</td>\n",
              "      <td>0.832774</td>\n",
              "      <td>0.267241</td>\n",
              "      <td>00:07</td>\n",
              "    </tr>\n",
              "  </tbody>\n",
              "</table>"
            ],
            "text/plain": [
              "<IPython.core.display.HTML object>"
            ]
          },
          "metadata": {
            "tags": []
          }
        }
      ]
    },
    {
      "cell_type": "code",
      "metadata": {
        "id": "A2Tuh1td-oXw",
        "colab": {
          "base_uri": "https://localhost:8080/",
          "height": 1000
        },
        "outputId": "1dbcc764-a555-464f-9a6c-23b60d8dc62e"
      },
      "source": [
        "mylearn.fine_tune(25)\n",
        "mylearn.lr_find()"
      ],
      "execution_count": null,
      "outputs": [
        {
          "output_type": "display_data",
          "data": {
            "text/html": [
              "<table border=\"1\" class=\"dataframe\">\n",
              "  <thead>\n",
              "    <tr style=\"text-align: left;\">\n",
              "      <th>epoch</th>\n",
              "      <th>train_loss</th>\n",
              "      <th>valid_loss</th>\n",
              "      <th>error_rate</th>\n",
              "      <th>time</th>\n",
              "    </tr>\n",
              "  </thead>\n",
              "  <tbody>\n",
              "    <tr>\n",
              "      <td>0</td>\n",
              "      <td>0.034832</td>\n",
              "      <td>0.432210</td>\n",
              "      <td>0.172414</td>\n",
              "      <td>00:06</td>\n",
              "    </tr>\n",
              "  </tbody>\n",
              "</table>"
            ],
            "text/plain": [
              "<IPython.core.display.HTML object>"
            ]
          },
          "metadata": {
            "tags": []
          }
        },
        {
          "output_type": "display_data",
          "data": {
            "text/html": [
              "<table border=\"1\" class=\"dataframe\">\n",
              "  <thead>\n",
              "    <tr style=\"text-align: left;\">\n",
              "      <th>epoch</th>\n",
              "      <th>train_loss</th>\n",
              "      <th>valid_loss</th>\n",
              "      <th>error_rate</th>\n",
              "      <th>time</th>\n",
              "    </tr>\n",
              "  </thead>\n",
              "  <tbody>\n",
              "    <tr>\n",
              "      <td>0</td>\n",
              "      <td>0.007333</td>\n",
              "      <td>0.468481</td>\n",
              "      <td>0.172414</td>\n",
              "      <td>00:07</td>\n",
              "    </tr>\n",
              "    <tr>\n",
              "      <td>1</td>\n",
              "      <td>0.022296</td>\n",
              "      <td>0.509431</td>\n",
              "      <td>0.163793</td>\n",
              "      <td>00:07</td>\n",
              "    </tr>\n",
              "    <tr>\n",
              "      <td>2</td>\n",
              "      <td>0.017422</td>\n",
              "      <td>0.557701</td>\n",
              "      <td>0.163793</td>\n",
              "      <td>00:07</td>\n",
              "    </tr>\n",
              "    <tr>\n",
              "      <td>3</td>\n",
              "      <td>0.016306</td>\n",
              "      <td>0.517708</td>\n",
              "      <td>0.163793</td>\n",
              "      <td>00:07</td>\n",
              "    </tr>\n",
              "    <tr>\n",
              "      <td>4</td>\n",
              "      <td>0.012661</td>\n",
              "      <td>0.444187</td>\n",
              "      <td>0.137931</td>\n",
              "      <td>00:07</td>\n",
              "    </tr>\n",
              "    <tr>\n",
              "      <td>5</td>\n",
              "      <td>0.010632</td>\n",
              "      <td>0.434868</td>\n",
              "      <td>0.137931</td>\n",
              "      <td>00:07</td>\n",
              "    </tr>\n",
              "    <tr>\n",
              "      <td>6</td>\n",
              "      <td>0.010011</td>\n",
              "      <td>0.426301</td>\n",
              "      <td>0.103448</td>\n",
              "      <td>00:07</td>\n",
              "    </tr>\n",
              "    <tr>\n",
              "      <td>7</td>\n",
              "      <td>0.010170</td>\n",
              "      <td>0.478104</td>\n",
              "      <td>0.155172</td>\n",
              "      <td>00:07</td>\n",
              "    </tr>\n",
              "    <tr>\n",
              "      <td>8</td>\n",
              "      <td>0.014525</td>\n",
              "      <td>0.908226</td>\n",
              "      <td>0.224138</td>\n",
              "      <td>00:07</td>\n",
              "    </tr>\n",
              "    <tr>\n",
              "      <td>9</td>\n",
              "      <td>0.017368</td>\n",
              "      <td>1.128725</td>\n",
              "      <td>0.250000</td>\n",
              "      <td>00:07</td>\n",
              "    </tr>\n",
              "    <tr>\n",
              "      <td>10</td>\n",
              "      <td>0.018064</td>\n",
              "      <td>0.716941</td>\n",
              "      <td>0.163793</td>\n",
              "      <td>00:07</td>\n",
              "    </tr>\n",
              "    <tr>\n",
              "      <td>11</td>\n",
              "      <td>0.015457</td>\n",
              "      <td>0.788531</td>\n",
              "      <td>0.206897</td>\n",
              "      <td>00:07</td>\n",
              "    </tr>\n",
              "    <tr>\n",
              "      <td>12</td>\n",
              "      <td>0.015942</td>\n",
              "      <td>0.950604</td>\n",
              "      <td>0.224138</td>\n",
              "      <td>00:07</td>\n",
              "    </tr>\n",
              "    <tr>\n",
              "      <td>13</td>\n",
              "      <td>0.014622</td>\n",
              "      <td>1.121277</td>\n",
              "      <td>0.232759</td>\n",
              "      <td>00:07</td>\n",
              "    </tr>\n",
              "    <tr>\n",
              "      <td>14</td>\n",
              "      <td>0.015241</td>\n",
              "      <td>1.064093</td>\n",
              "      <td>0.215517</td>\n",
              "      <td>00:07</td>\n",
              "    </tr>\n",
              "    <tr>\n",
              "      <td>15</td>\n",
              "      <td>0.014899</td>\n",
              "      <td>0.900572</td>\n",
              "      <td>0.198276</td>\n",
              "      <td>00:07</td>\n",
              "    </tr>\n",
              "    <tr>\n",
              "      <td>16</td>\n",
              "      <td>0.013675</td>\n",
              "      <td>0.791573</td>\n",
              "      <td>0.181034</td>\n",
              "      <td>00:07</td>\n",
              "    </tr>\n",
              "    <tr>\n",
              "      <td>17</td>\n",
              "      <td>0.014984</td>\n",
              "      <td>0.760636</td>\n",
              "      <td>0.172414</td>\n",
              "      <td>00:07</td>\n",
              "    </tr>\n",
              "    <tr>\n",
              "      <td>18</td>\n",
              "      <td>0.013381</td>\n",
              "      <td>0.731437</td>\n",
              "      <td>0.155172</td>\n",
              "      <td>00:07</td>\n",
              "    </tr>\n",
              "    <tr>\n",
              "      <td>19</td>\n",
              "      <td>0.011950</td>\n",
              "      <td>0.708408</td>\n",
              "      <td>0.163793</td>\n",
              "      <td>00:07</td>\n",
              "    </tr>\n",
              "    <tr>\n",
              "      <td>20</td>\n",
              "      <td>0.010747</td>\n",
              "      <td>0.678366</td>\n",
              "      <td>0.163793</td>\n",
              "      <td>00:07</td>\n",
              "    </tr>\n",
              "    <tr>\n",
              "      <td>21</td>\n",
              "      <td>0.009396</td>\n",
              "      <td>0.677235</td>\n",
              "      <td>0.163793</td>\n",
              "      <td>00:07</td>\n",
              "    </tr>\n",
              "    <tr>\n",
              "      <td>22</td>\n",
              "      <td>0.008254</td>\n",
              "      <td>0.679591</td>\n",
              "      <td>0.163793</td>\n",
              "      <td>00:07</td>\n",
              "    </tr>\n",
              "    <tr>\n",
              "      <td>23</td>\n",
              "      <td>0.007263</td>\n",
              "      <td>0.676268</td>\n",
              "      <td>0.163793</td>\n",
              "      <td>00:07</td>\n",
              "    </tr>\n",
              "    <tr>\n",
              "      <td>24</td>\n",
              "      <td>0.009900</td>\n",
              "      <td>0.667673</td>\n",
              "      <td>0.163793</td>\n",
              "      <td>00:07</td>\n",
              "    </tr>\n",
              "  </tbody>\n",
              "</table>"
            ],
            "text/plain": [
              "<IPython.core.display.HTML object>"
            ]
          },
          "metadata": {
            "tags": []
          }
        },
        {
          "output_type": "display_data",
          "data": {
            "text/html": [
              ""
            ],
            "text/plain": [
              "<IPython.core.display.HTML object>"
            ]
          },
          "metadata": {
            "tags": []
          }
        },
        {
          "output_type": "display_data",
          "data": {
            "image/png": "[encoded data removed]",
            "text/plain": [
              "<Figure size 432x288 with 1 Axes>"
            ]
          },
          "metadata": {
            "tags": [],
            "needs_background": "light"
          }
        }
      ]
    },
    {
      "cell_type": "code",
      "metadata": {
        "id": "wbjhtQCLKi5Q",
        "colab": {
          "base_uri": "https://localhost:8080/",
          "height": 383
        },
        "outputId": "f2d4c025-477b-4396-fa26-4781fe68a391"
      },
      "source": [
        "mylearn.fit_one_cycle(2)\n",
        "mylearn.lr_find()"
      ],
      "execution_count": null,
      "outputs": [
        {
          "output_type": "display_data",
          "data": {
            "text/html": [
              "<table border=\"1\" class=\"dataframe\">\n",
              "  <thead>\n",
              "    <tr style=\"text-align: left;\">\n",
              "      <th>epoch</th>\n",
              "      <th>train_loss</th>\n",
              "      <th>valid_loss</th>\n",
              "      <th>error_rate</th>\n",
              "      <th>time</th>\n",
              "    </tr>\n",
              "  </thead>\n",
              "  <tbody>\n",
              "    <tr>\n",
              "      <td>0</td>\n",
              "      <td>0.060759</td>\n",
              "      <td>2.032515</td>\n",
              "      <td>0.327586</td>\n",
              "      <td>00:07</td>\n",
              "    </tr>\n",
              "    <tr>\n",
              "      <td>1</td>\n",
              "      <td>0.185419</td>\n",
              "      <td>2.958822</td>\n",
              "      <td>0.387931</td>\n",
              "      <td>00:07</td>\n",
              "    </tr>\n",
              "  </tbody>\n",
              "</table>"
            ],
            "text/plain": [
              "<IPython.core.display.HTML object>"
            ]
          },
          "metadata": {
            "tags": []
          }
        },
        {
          "output_type": "display_data",
          "data": {
            "text/html": [
              ""
            ],
            "text/plain": [
              "<IPython.core.display.HTML object>"
            ]
          },
          "metadata": {
            "tags": []
          }
        },
        {
          "output_type": "display_data",
          "data": {
            "image/png": "[encoded data removed]",
            "text/plain": [
              "<Figure size 432x288 with 1 Axes>"
            ]
          },
          "metadata": {
            "tags": [],
            "needs_background": "light"
          }
        }
      ]
    },
    {
      "cell_type": "code",
      "metadata": {
        "id": "JS7uInwPBc32",
        "colab": {
          "base_uri": "https://localhost:8080/",
          "height": 310
        },
        "outputId": "408b815b-7710-45ec-b407-a8ba6f7e88ad"
      },
      "source": [
        "myinterp = ClassificationInterpretation.from_learner(mylearn)\n",
        "myinterp.plot_confusion_matrix()"
      ],
      "execution_count": null,
      "outputs": [
        {
          "output_type": "display_data",
          "data": {
            "text/html": [
              ""
            ],
            "text/plain": [
              "<IPython.core.display.HTML object>"
            ]
          },
          "metadata": {
            "tags": []
          }
        },
        {
          "output_type": "display_data",
          "data": {
            "image/png": "[encoded data removed]",
            "text/plain": [
              "<Figure size 432x288 with 1 Axes>"
            ]
          },
          "metadata": {
            "tags": [],
            "needs_background": "light"
          }
        }
      ]
    },
    {
      "cell_type": "code",
      "metadata": {
        "id": "P95CwkuJBrw6",
        "colab": {
          "base_uri": "https://localhost:8080/",
          "height": 954
        },
        "outputId": "bde24a12-b3dd-4a10-e84a-c0e3258736e2"
      },
      "source": [
        "myinterp.plot_top_losses(5, nrows=5)"
      ],
      "execution_count": null,
      "outputs": [
        {
          "output_type": "display_data",
          "data": {
            "image/png": "[encoded data removed]",
            "text/plain": [
              "<Figure size 216x1080 with 5 Axes>"
            ]
          },
          "metadata": {
            "tags": [],
            "needs_background": "light"
          }
        }
      ]
    },
    {
      "cell_type": "code",
      "metadata": {
        "id": "6rUQV71lEOVa"
      },
      "source": [
        "plot_top_losses?"
      ],
      "execution_count": null,
      "outputs": []
    },
    {
      "cell_type": "code",
      "metadata": {
        "id": "29n3XTZdBxIC"
      },
      "source": [
        "cleaner = ImageClassifierCleaner(learn)\n",
        "cleaner"
      ],
      "execution_count": null,
      "outputs": []
    },
    {
      "cell_type": "code",
      "metadata": {
        "id": "GsSSeFcMCmR4"
      },
      "source": [
        ""
      ],
      "execution_count": null,
      "outputs": []
    },
    {
      "cell_type": "markdown",
      "metadata": {
        "id": "U8QFN6VTCnyg"
      },
      "source": [
        "# Web App"
      ]
    },
    {
      "cell_type": "code",
      "metadata": {
        "id": "4TZkyBDvC58x"
      },
      "source": [
        "mylearn.export()"
      ],
      "execution_count": null,
      "outputs": []
    },
    {
      "cell_type": "code",
      "metadata": {
        "id": "F4Xe7yqUDfJP",
        "colab": {
          "base_uri": "https://localhost:8080/"
        },
        "outputId": "52c79e9d-b9ec-41bd-c833-97755c5d220b"
      },
      "source": [
        "learnerpath = Path()\n",
        "learnerpath.ls(file_exts='.pkl')"
      ],
      "execution_count": null,
      "outputs": [
        {
          "output_type": "execute_result",
          "data": {
            "text/plain": [
              "(#1) [Path('export.pkl')]"
            ]
          },
          "metadata": {
            "tags": []
          },
          "execution_count": 43
        }
      ]
    },
    {
      "cell_type": "code",
      "metadata": {
        "id": "OV4ZqvLjDmtS"
      },
      "source": [
        "learn_inf = load_learner(path/'export.pkl')"
      ],
      "execution_count": null,
      "outputs": []
    },
    {
      "cell_type": "code",
      "metadata": {
        "id": "hORBud7WDvX3"
      },
      "source": [
        "learn_inf.predict('images/grizzly.jpg')"
      ],
      "execution_count": null,
      "outputs": []
    },
    {
      "cell_type": "code",
      "metadata": {
        "id": "9d_doUsqD2wE"
      },
      "source": [
        "learn_inf.dls.vocab"
      ],
      "execution_count": null,
      "outputs": []
    },
    {
      "cell_type": "code",
      "metadata": {
        "id": "-zBTxePcNhVs",
        "colab": {
          "base_uri": "https://localhost:8080/",
          "height": 49,
          "referenced_widgets": [
            "8b6baaa9fe5c40f9ae7e6ab6bdee65db",
            "f18fc1baf4ab42ceaa4a8a20614df3d9",
            "cc48bc4c7e20457d8c3be535bccfc7ee"
          ]
        },
        "outputId": "2097a4a9-6705-4f31-f46a-a371e81a940b"
      },
      "source": [
        "btn_upload = widgets.FileUpload()\n",
        "btn_upload"
      ],
      "execution_count": null,
      "outputs": [
        {
          "output_type": "display_data",
          "data": {
            "application/vnd.jupyter.widget-view+json": {
              "model_id": "8b6baaa9fe5c40f9ae7e6ab6bdee65db",
              "version_minor": 0,
              "version_major": 2
            },
            "text/plain": [
              "FileUpload(value={}, description='Upload')"
            ]
          },
          "metadata": {
            "tags": []
          }
        }
      ]
    },
    {
      "cell_type": "code",
      "metadata": {
        "id": "IlGxbe-tNiES",
        "colab": {
          "base_uri": "https://localhost:8080/",
          "height": 49,
          "referenced_widgets": [
            "4c73763fcce44e49b32ccd377f501e58",
            "198c60c4a6384a6c976414997b750841",
            "4a0150ca7b984062b4641993f698aa35"
          ]
        },
        "outputId": "cc06193f-cbf2-4bd7-9b2a-7410cff27fc4"
      },
      "source": [
        "btn_run = widgets.Button(description='Are they Ginger?')\n",
        "btn_run"
      ],
      "execution_count": null,
      "outputs": [
        {
          "output_type": "display_data",
          "data": {
            "application/vnd.jupyter.widget-view+json": {
              "model_id": "4c73763fcce44e49b32ccd377f501e58",
              "version_minor": 0,
              "version_major": 2
            },
            "text/plain": [
              "Button(description='Are they Ginger', style=ButtonStyle())"
            ]
          },
          "metadata": {
            "tags": []
          }
        }
      ]
    },
    {
      "cell_type": "code",
      "metadata": {
        "id": "o5MuZJtKNiL_",
        "colab": {
          "base_uri": "https://localhost:8080/",
          "height": 145,
          "referenced_widgets": [
            "678245ed128545149a9bc7a8f2b81d1b",
            "9f54dbe5d33943be98731c5928e6f9e4"
          ]
        },
        "outputId": "74d7c812-a511-4a5a-a30f-032a6478927a"
      },
      "source": [
        "img = PILImage.create(btn_upload.data[-1])\n",
        "out_pl = widgets.Output()\n",
        "out_pl.clear_output()\n",
        "with out_pl: display(img.to_thumb(128,128))\n",
        "out_pl"
      ],
      "execution_count": null,
      "outputs": [
        {
          "output_type": "display_data",
          "data": {
            "application/vnd.jupyter.widget-view+json": {
              "model_id": "678245ed128545149a9bc7a8f2b81d1b",
              "version_minor": 0,
              "version_major": 2
            },
            "text/plain": [
              "Output()"
            ]
          },
          "metadata": {
            "tags": []
          }
        }
      ]
    },
    {
      "cell_type": "code",
      "metadata": {
        "id": "fMZTm5qMOd1f",
        "colab": {
          "base_uri": "https://localhost:8080/",
          "height": 17
        },
        "outputId": "6db7e087-cc6c-4713-fe29-a58546c7a6cc"
      },
      "source": [
        "pred,pred_idx,probs = mylearn.predict(img)"
      ],
      "execution_count": null,
      "outputs": [
        {
          "output_type": "display_data",
          "data": {
            "text/html": [
              ""
            ],
            "text/plain": [
              "<IPython.core.display.HTML object>"
            ]
          },
          "metadata": {
            "tags": []
          }
        }
      ]
    },
    {
      "cell_type": "code",
      "metadata": {
        "id": "aIQuZ7_bOe16",
        "colab": {
          "base_uri": "https://localhost:8080/",
          "height": 49,
          "referenced_widgets": [
            "5921764dcc0e4409a0ae450b98037afd",
            "e33fbd2e03704e28b0c0de3502ddeafc",
            "6f1f71bcdb3a4e3b85d71305535df6d0"
          ]
        },
        "outputId": "653d148b-3d37-4b76-9252-6d4cc75b8452"
      },
      "source": [
        "lbl_pred = widgets.Label()\n",
        "lbl_pred.value = f'Prediction: {pred}; Probability: {probs[pred_idx]:.04f}'\n",
        "lbl_pred"
      ],
      "execution_count": null,
      "outputs": [
        {
          "output_type": "display_data",
          "data": {
            "application/vnd.jupyter.widget-view+json": {
              "model_id": "5921764dcc0e4409a0ae450b98037afd",
              "version_minor": 0,
              "version_major": 2
            },
            "text/plain": [
              "Label(value='Prediction: Ginger; Probability: 0.5723')"
            ]
          },
          "metadata": {
            "tags": []
          }
        }
      ]
    },
    {
      "cell_type": "code",
      "metadata": {
        "id": "zM96-AE1OvZx"
      },
      "source": [
        "def on_click_classify(change):\n",
        "    img = PILImage.create(btn_upload.data[-1])\n",
        "    out_pl.clear_output()\n",
        "    with out_pl: display(img.to_thumb(128,128))\n",
        "    pred,pred_idx,probs = mylearn.predict(img)\n",
        "    lbl_pred.value = f'Prediction: {pred}; Probability: {probs[pred_idx]:.04f}'\n",
        "\n",
        "btn_run.on_click(on_click_classify)"
      ],
      "execution_count": null,
      "outputs": []
    },
    {
      "cell_type": "code",
      "metadata": {
        "id": "mK1ja9IINgTR",
        "colab": {
          "base_uri": "https://localhost:8080/",
          "height": 273,
          "referenced_widgets": [
            "9699da1a0f5b4db4911a11117ddfafb8",
            "ec9624741541470fafddb81c808bc3f3",
            "608ccd8832c1461bacc61a4a81040267",
            "8b6baaa9fe5c40f9ae7e6ab6bdee65db",
            "4c73763fcce44e49b32ccd377f501e58",
            "678245ed128545149a9bc7a8f2b81d1b",
            "5921764dcc0e4409a0ae450b98037afd",
            "2b7db459560c4d78b50d295187f48ab8",
            "86e39c42e7af4edca8ee61735a40049b",
            "f18fc1baf4ab42ceaa4a8a20614df3d9",
            "cc48bc4c7e20457d8c3be535bccfc7ee",
            "198c60c4a6384a6c976414997b750841",
            "4a0150ca7b984062b4641993f698aa35",
            "e33fbd2e03704e28b0c0de3502ddeafc",
            "6f1f71bcdb3a4e3b85d71305535df6d0",
            "9f54dbe5d33943be98731c5928e6f9e4"
          ]
        },
        "outputId": "8c00af6e-db9f-489d-d7ac-e76c2ef4a764"
      },
      "source": [
        "VBox([widgets.Label('Upload a picture of someone to see if they are ginger!'), \n",
        "      btn_upload, btn_run, out_pl, lbl_pred])"
      ],
      "execution_count": null,
      "outputs": [
        {
          "output_type": "display_data",
          "data": {
            "application/vnd.jupyter.widget-view+json": {
              "model_id": "9699da1a0f5b4db4911a11117ddfafb8",
              "version_minor": 0,
              "version_major": 2
            },
            "text/plain": [
              "VBox(children=(Label(value='Upload a picture of someone to see if they are ginger!'), FileUpload(value={'profo…"
            ]
          },
          "metadata": {
            "tags": []
          }
        }
      ]
    },
    {
      "cell_type": "markdown",
      "metadata": {
        "id": "2zs6KbFx1NHa"
      },
      "source": [
        "# clean\n",
        "To download images with Bing Image Search, sign up at [Microsoft Azure](https://azure.microsoft.com/en-us/services/cognitive-services/bing-web-search-api/) for a free account. You will be given a key, which you can copy and enter in a cell as follows (replacing 'XXX' with your key and executing it):"
      ]
    },
    {
      "cell_type": "code",
      "metadata": {
        "id": "0ezfoYsE1NHa"
      },
      "source": [
        "key = os.environ.get('AZURE_SEARCH_KEY', 'XXX')"
      ],
      "execution_count": null,
      "outputs": []
    },
    {
      "cell_type": "code",
      "metadata": {
        "id": "SjljyOsn1NHb"
      },
      "source": [
        "search_images_bing"
      ],
      "execution_count": null,
      "outputs": []
    },
    {
      "cell_type": "code",
      "metadata": {
        "id": "LlSGqWJp1NHb"
      },
      "source": [
        "results = search_images_bing(key, 'grizzly bear')\n",
        "ims = results.attrgot('content_url')\n",
        "len(ims)"
      ],
      "execution_count": null,
      "outputs": []
    },
    {
      "cell_type": "code",
      "metadata": {
        "id": "tjrhGeOf1NHb"
      },
      "source": [
        "#hide\n",
        "ims = ['http://3.bp.blogspot.com/-S1scRCkI3vY/UHzV2kucsPI/AAAAAAAAA-k/YQ5UzHEm9Ss/s1600/Grizzly%2BBear%2BWildlife.jpg']"
      ],
      "execution_count": null,
      "outputs": []
    },
    {
      "cell_type": "code",
      "metadata": {
        "id": "78qQpC2R1NHc"
      },
      "source": [
        "dest = 'images/grizzly.jpg'\n",
        "download_url(ims[0], dest)"
      ],
      "execution_count": null,
      "outputs": []
    },
    {
      "cell_type": "code",
      "metadata": {
        "id": "BzT4K7m51NHc"
      },
      "source": [
        "im = Image.open(dest)\n",
        "im.to_thumb(128,128)"
      ],
      "execution_count": null,
      "outputs": []
    },
    {
      "cell_type": "code",
      "metadata": {
        "id": "saBtO04P1NHc"
      },
      "source": [
        "bear_types = 'grizzly','black','teddy'\n",
        "path = Path('bears')"
      ],
      "execution_count": null,
      "outputs": []
    },
    {
      "cell_type": "code",
      "metadata": {
        "id": "Xb8E6GXo1NHc"
      },
      "source": [
        "if not path.exists():\n",
        "    path.mkdir()\n",
        "    for o in bear_types:\n",
        "        dest = (path/o)\n",
        "        dest.mkdir(exist_ok=True)\n",
        "        results = search_images_bing(key, f'{o} bear')\n",
        "        download_images(dest, urls=results.attrgot('contentUrl'))"
      ],
      "execution_count": null,
      "outputs": []
    },
    {
      "cell_type": "code",
      "metadata": {
        "id": "HdmnJarI1NHd"
      },
      "source": [
        "fns = get_image_files(path)\n",
        "fns"
      ],
      "execution_count": null,
      "outputs": []
    },
    {
      "cell_type": "code",
      "metadata": {
        "id": "PjMb5qbs1NHd"
      },
      "source": [
        "failed = verify_images(fns)\n",
        "failed"
      ],
      "execution_count": null,
      "outputs": []
    },
    {
      "cell_type": "code",
      "metadata": {
        "id": "X-lGwa7j1NHd"
      },
      "source": [
        "failed.map(Path.unlink);"
      ],
      "execution_count": null,
      "outputs": []
    },
    {
      "cell_type": "markdown",
      "metadata": {
        "id": "mX2Y3-zn1NHe"
      },
      "source": [
        "### Sidebar: Getting Help in Jupyter Notebooks"
      ]
    },
    {
      "cell_type": "markdown",
      "metadata": {
        "id": "EUAn3UFb1NHe"
      },
      "source": [
        "### End sidebar"
      ]
    },
    {
      "cell_type": "markdown",
      "metadata": {
        "id": "KnxceQi41NHe"
      },
      "source": [
        "## From Data to DataLoaders"
      ]
    },
    {
      "cell_type": "code",
      "metadata": {
        "id": "n8mofAH71NHe"
      },
      "source": [
        "bears = DataBlock(\n",
        "    blocks=(ImageBlock, CategoryBlock), \n",
        "    get_items=get_image_files, \n",
        "    splitter=RandomSplitter(valid_pct=0.2, seed=42),\n",
        "    get_y=parent_label,\n",
        "    item_tfms=Resize(128))"
      ],
      "execution_count": null,
      "outputs": []
    },
    {
      "cell_type": "code",
      "metadata": {
        "id": "Kn-vj7Jm1NHe"
      },
      "source": [
        "dls = bears.dataloaders(path)"
      ],
      "execution_count": null,
      "outputs": []
    },
    {
      "cell_type": "code",
      "metadata": {
        "id": "uyu-xPvC1NHf"
      },
      "source": [
        "dls.valid.show_batch(max_n=4, nrows=1)"
      ],
      "execution_count": null,
      "outputs": []
    },
    {
      "cell_type": "code",
      "metadata": {
        "id": "h-tJGUbD1NHf"
      },
      "source": [
        "bears = bears.new(item_tfms=Resize(128, ResizeMethod.Squish))\n",
        "dls = bears.dataloaders(path)\n",
        "dls.valid.show_batch(max_n=4, nrows=1)"
      ],
      "execution_count": null,
      "outputs": []
    },
    {
      "cell_type": "code",
      "metadata": {
        "id": "xpZLC9GQ1NHf"
      },
      "source": [
        "bears = bears.new(item_tfms=Resize(128, ResizeMethod.Pad, pad_mode='zeros'))\n",
        "dls = bears.dataloaders(path)\n",
        "dls.valid.show_batch(max_n=4, nrows=1)"
      ],
      "execution_count": null,
      "outputs": []
    },
    {
      "cell_type": "code",
      "metadata": {
        "id": "iscaZ7mD1NHf"
      },
      "source": [
        "bears = bears.new(item_tfms=RandomResizedCrop(128, min_scale=0.3))\n",
        "dls = bears.dataloaders(path)\n",
        "dls.train.show_batch(max_n=4, nrows=1, unique=True)"
      ],
      "execution_count": null,
      "outputs": []
    },
    {
      "cell_type": "markdown",
      "metadata": {
        "id": "t3v-kghB1NHg"
      },
      "source": [
        "### Data Augmentation"
      ]
    },
    {
      "cell_type": "code",
      "metadata": {
        "id": "l8gCRp7C1NHg"
      },
      "source": [
        "bears = bears.new(item_tfms=Resize(128), batch_tfms=aug_transforms(mult=2))\n",
        "dls = bears.dataloaders(path)\n",
        "dls.train.show_batch(max_n=8, nrows=2, unique=True)"
      ],
      "execution_count": null,
      "outputs": []
    },
    {
      "cell_type": "markdown",
      "metadata": {
        "id": "f0IxJx-a1NHg"
      },
      "source": [
        "## Training Your Model, and Using It to Clean Your Data"
      ]
    },
    {
      "cell_type": "code",
      "metadata": {
        "id": "4HaEV4m61NHg"
      },
      "source": [
        "bears = bears.new(\n",
        "    item_tfms=RandomResizedCrop(224, min_scale=0.5),\n",
        "    batch_tfms=aug_transforms())\n",
        "dls = bears.dataloaders(path)"
      ],
      "execution_count": null,
      "outputs": []
    },
    {
      "cell_type": "code",
      "metadata": {
        "id": "GeQ-csDq1NHh"
      },
      "source": [
        "learn = cnn_learner(dls, resnet18, metrics=error_rate)\n",
        "learn.fine_tune(4)"
      ],
      "execution_count": null,
      "outputs": []
    },
    {
      "cell_type": "code",
      "metadata": {
        "id": "YP_evPPg1NHh"
      },
      "source": [
        "interp = ClassificationInterpretation.from_learner(learn)\n",
        "interp.plot_confusion_matrix()"
      ],
      "execution_count": null,
      "outputs": []
    },
    {
      "cell_type": "code",
      "metadata": {
        "id": "XBaq1qNM1NHh"
      },
      "source": [
        "interp.plot_top_losses(5, nrows=1)"
      ],
      "execution_count": null,
      "outputs": []
    },
    {
      "cell_type": "code",
      "metadata": {
        "id": "Df52vnlR1NHh"
      },
      "source": [
        "cleaner = ImageClassifierCleaner(learn)\n",
        "cleaner"
      ],
      "execution_count": null,
      "outputs": []
    },
    {
      "cell_type": "code",
      "metadata": {
        "id": "li8dt_f31NHh"
      },
      "source": [
        "#hide\n",
        "# for idx in cleaner.delete(): cleaner.fns[idx].unlink()\n",
        "# for idx,cat in cleaner.change(): shutil.move(str(cleaner.fns[idx]), path/cat)"
      ],
      "execution_count": null,
      "outputs": []
    },
    {
      "cell_type": "markdown",
      "metadata": {
        "id": "vzKp1XA61NHi"
      },
      "source": [
        "## Turning Your Model into an Online Application"
      ]
    },
    {
      "cell_type": "markdown",
      "metadata": {
        "id": "eLK16Ydj1NHi"
      },
      "source": [
        "### Using the Model for Inference"
      ]
    },
    {
      "cell_type": "code",
      "metadata": {
        "id": "GFXXLmS-1NHj"
      },
      "source": [
        "learn.export()"
      ],
      "execution_count": null,
      "outputs": []
    },
    {
      "cell_type": "code",
      "metadata": {
        "id": "Ku1XCGmf1NHj"
      },
      "source": [
        "path = Path()\n",
        "path.ls(file_exts='.pkl')"
      ],
      "execution_count": null,
      "outputs": []
    },
    {
      "cell_type": "code",
      "metadata": {
        "id": "XuKq6vPO1NHj"
      },
      "source": [
        "learn_inf = load_learner(path/'export.pkl')"
      ],
      "execution_count": null,
      "outputs": []
    },
    {
      "cell_type": "code",
      "metadata": {
        "id": "JNOvG_ev1NHk"
      },
      "source": [
        "learn_inf.predict('images/grizzly.jpg')"
      ],
      "execution_count": null,
      "outputs": []
    },
    {
      "cell_type": "code",
      "metadata": {
        "id": "HjYFwrhD1NHk"
      },
      "source": [
        "learn_inf.dls.vocab"
      ],
      "execution_count": null,
      "outputs": []
    },
    {
      "cell_type": "markdown",
      "metadata": {
        "id": "rBCFDXJ01NHk"
      },
      "source": [
        "### Creating a Notebook App from the Model"
      ]
    },
    {
      "cell_type": "code",
      "metadata": {
        "id": "X4sLjnag1NHk"
      },
      "source": [
        "btn_upload = widgets.FileUpload()\n",
        "btn_upload"
      ],
      "execution_count": null,
      "outputs": []
    },
    {
      "cell_type": "code",
      "metadata": {
        "id": "RI7bLi8g1NHl"
      },
      "source": [
        "#hide\n",
        "# For the book, we can't actually click an upload button, so we fake it\n",
        "btn_upload = SimpleNamespace(data = ['images/grizzly.jpg'])"
      ],
      "execution_count": null,
      "outputs": []
    },
    {
      "cell_type": "code",
      "metadata": {
        "id": "g_us5wjA1NHl"
      },
      "source": [
        "img = PILImage.create(btn_upload.data[-1])"
      ],
      "execution_count": null,
      "outputs": []
    },
    {
      "cell_type": "code",
      "metadata": {
        "id": "Mqn5_fQk1NHl"
      },
      "source": [
        "out_pl = widgets.Output()\n",
        "out_pl.clear_output()\n",
        "with out_pl: display(img.to_thumb(128,128))\n",
        "out_pl"
      ],
      "execution_count": null,
      "outputs": []
    },
    {
      "cell_type": "code",
      "metadata": {
        "id": "e5q51VB81NHl"
      },
      "source": [
        "pred,pred_idx,probs = learn_inf.predict(img)"
      ],
      "execution_count": null,
      "outputs": []
    },
    {
      "cell_type": "code",
      "metadata": {
        "id": "t6gHTSDy1NHm"
      },
      "source": [
        "lbl_pred = widgets.Label()\n",
        "lbl_pred.value = f'Prediction: {pred}; Probability: {probs[pred_idx]:.04f}'\n",
        "lbl_pred"
      ],
      "execution_count": null,
      "outputs": []
    },
    {
      "cell_type": "code",
      "metadata": {
        "id": "qYRbbFo81NHm"
      },
      "source": [
        "btn_run = widgets.Button(description='Classify')\n",
        "btn_run"
      ],
      "execution_count": null,
      "outputs": []
    },
    {
      "cell_type": "code",
      "metadata": {
        "id": "3f6spqkP1NHm"
      },
      "source": [
        "def on_click_classify(change):\n",
        "    img = PILImage.create(btn_upload.data[-1])\n",
        "    out_pl.clear_output()\n",
        "    with out_pl: display(img.to_thumb(128,128))\n",
        "    pred,pred_idx,probs = learn_inf.predict(img)\n",
        "    lbl_pred.value = f'Prediction: {pred}; Probability: {probs[pred_idx]:.04f}'\n",
        "\n",
        "btn_run.on_click(on_click_classify)"
      ],
      "execution_count": null,
      "outputs": []
    },
    {
      "cell_type": "code",
      "metadata": {
        "id": "-14DjzOw1NHm"
      },
      "source": [
        "#hide\n",
        "#Putting back btn_upload to a widget for next cell\n",
        "btn_upload = widgets.FileUpload()"
      ],
      "execution_count": null,
      "outputs": []
    },
    {
      "cell_type": "code",
      "metadata": {
        "id": "G_aHbWzz1NHn"
      },
      "source": [
        "VBox([widgets.Label('Select your bear!'), \n",
        "      btn_upload, btn_run, out_pl, lbl_pred])"
      ],
      "execution_count": null,
      "outputs": []
    },
    {
      "cell_type": "markdown",
      "metadata": {
        "id": "MSYfEDVN1NHn"
      },
      "source": [
        "### Turning Your Notebook into a Real App"
      ]
    },
    {
      "cell_type": "code",
      "metadata": {
        "id": "H6rt6igR1NHn"
      },
      "source": [
        "#hide\n",
        "# !pip install voila\n",
        "# !jupyter serverextension enable --sys-prefix voila "
      ],
      "execution_count": null,
      "outputs": []
    },
    {
      "cell_type": "markdown",
      "metadata": {
        "id": "47Jznn571NHn"
      },
      "source": [
        "### Deploying your app"
      ]
    },
    {
      "cell_type": "markdown",
      "metadata": {
        "id": "YDBOl-_z1NHo"
      },
      "source": [
        "## How to Avoid Disaster"
      ]
    },
    {
      "cell_type": "markdown",
      "metadata": {
        "id": "gjP-I0Y51NHo"
      },
      "source": [
        "### Unforeseen Consequences and Feedback Loops"
      ]
    },
    {
      "cell_type": "markdown",
      "metadata": {
        "id": "lGG7nqPM1NHo"
      },
      "source": [
        "## Get Writing!"
      ]
    },
    {
      "cell_type": "markdown",
      "metadata": {
        "id": "K4P-5HAy1NHp"
      },
      "source": [
        "## Questionnaire"
      ]
    },
    {
      "cell_type": "markdown",
      "metadata": {
        "id": "5JgLF7DR1NHp"
      },
      "source": [
        "1. Provide an example of where the bear classification model might work poorly in production, due to structural or style differences in the training data.\n",
        "1. Where do text models currently have a major deficiency?\n",
        "1. What are possible negative societal implications of text generation models?\n",
        "1. In situations where a model might make mistakes, and those mistakes could be harmful, what is a good alternative to automating a process?\n",
        "1. What kind of tabular data is deep learning particularly good at?\n",
        "1. What's a key downside of directly using a deep learning model for recommendation systems?\n",
        "1. What are the steps of the Drivetrain Approach?\n",
        "1. How do the steps of the Drivetrain Approach map to a recommendation system?\n",
        "1. Create an image recognition model using data you curate, and deploy it on the web.\n",
        "1. What is `DataLoaders`?\n",
        "1. What four things do we need to tell fastai to create `DataLoaders`?\n",
        "1. What does the `splitter` parameter to `DataBlock` do?\n",
        "1. How do we ensure a random split always gives the same validation set?\n",
        "1. What letters are often used to signify the independent and dependent variables?\n",
        "1. What's the difference between the crop, pad, and squish resize approaches? When might you choose one over the others?\n",
        "1. What is data augmentation? Why is it needed?\n",
        "1. What is the difference between `item_tfms` and `batch_tfms`?\n",
        "1. What is a confusion matrix?\n",
        "1. What does `export` save?\n",
        "1. What is it called when we use a model for getting predictions, instead of training?\n",
        "1. What are IPython widgets?\n",
        "1. When might you want to use CPU for deployment? When might GPU be better?\n",
        "1. What are the downsides of deploying your app to a server, instead of to a client (or edge) device such as a phone or PC?\n",
        "1. What are three examples of problems that could occur when rolling out a bear warning system in practice?\n",
        "1. What is \"out-of-domain data\"?\n",
        "1. What is \"domain shift\"?\n",
        "1. What are the three steps in the deployment process?"
      ]
    },
    {
      "cell_type": "markdown",
      "metadata": {
        "id": "mlhDNobZ1NHr"
      },
      "source": [
        "### Further Research"
      ]
    },
    {
      "cell_type": "markdown",
      "metadata": {
        "id": "8PGRUQPv1NHs"
      },
      "source": [
        "1. Consider how the Drivetrain Approach maps to a project or problem you're interested in.\n",
        "1. When might it be best to avoid certain types of data augmentation?\n",
        "1. For a project you're interested in applying deep learning to, consider the thought experiment \"What would happen if it went really, really well?\"\n",
        "1. Start a blog, and write your first blog post. For instance, write about what you think deep learning might be useful for in a domain you're interested in."
      ]
    },
    {
      "cell_type": "code",
      "metadata": {
        "id": "rGfwfdRj1NHs"
      },
      "source": [
        ""
      ],
      "execution_count": null,
      "outputs": []
    }
  ]
}